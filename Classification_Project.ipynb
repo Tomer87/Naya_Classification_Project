{
  "nbformat": 4,
  "nbformat_minor": 0,
  "metadata": {
    "colab": {
      "name": "Classification Project",
      "provenance": [],
      "collapsed_sections": [
        "xFI3FyKyXegO",
        "T9ls2vryAFRZ",
        "cIqAj3IOYIaD",
        "_1hC9qiXou0a"
      ],
      "include_colab_link": true
    },
    "kernelspec": {
      "name": "python3",
      "display_name": "Python 3"
    },
    "language_info": {
      "name": "python"
    }
  },
  "cells": [
    {
      "cell_type": "markdown",
      "metadata": {
        "id": "view-in-github",
        "colab_type": "text"
      },
      "source": [
        "<a href=\"https://colab.research.google.com/github/Tomer87/Naya_Classification_Project/blob/main/Classification_Project.ipynb\" target=\"_parent\"><img src=\"https://colab.research.google.com/assets/colab-badge.svg\" alt=\"Open In Colab\"/></a>"
      ]
    },
    {
      "cell_type": "markdown",
      "metadata": {
        "id": "vNc3DEEHNw68"
      },
      "source": [
        "#General info"
      ]
    },
    {
      "cell_type": "markdown",
      "metadata": {
        "id": "xFI3FyKyXegO"
      },
      "source": [
        "###What is Stroke ?\n",
        "\n",
        "It happens when the brain's blood vessels become narrowed or blocked, causing severely reduced blood flow.\n",
        "\n",
        "Blocked or narrowed blood vessels are caused by fatty deposits that build up in blood vessels or by blood clots or other debris that travel through your bloodstream and lodge in the blood vessels in your brain."
      ]
    },
    {
      "cell_type": "markdown",
      "metadata": {
        "id": "PJs4IPtEbQfK"
      },
      "source": [
        "1.  id: unique identifier\n",
        "2.  gender: \"Male\", \"Female\" or \"Other\"\n",
        "3.  age: age of the patient\n",
        "4.  hypertension: 0 if the patient doesn't have hypertension, 1 if the patient has hypertension\n",
        "5.  heart_disease: 0 if the patient doesn't have any heart diseases, 1 if the patient has a heart disease\n",
        "6.  ever_married: \"No\" or \"Yes\"\n",
        "7.  work_type: \"children\", \"Govt_jov\", \"Never_worked\", \"Private\" or \"Self-employed\"\n",
        "8.  Residence_type: \"Rural\" or \"Urban\"\n",
        "9.  avg_glucose_level: average glucose level in blood\n",
        "10.  bmi: body mass index\n",
        "11.  smoking_status: \"formerly smoked\", \"never smoked\", \"smokes\" or \"Unknown\"*\n",
        "12.  stroke: 1 if the patient had a stroke or 0 if not"
      ]
    },
    {
      "cell_type": "markdown",
      "metadata": {
        "id": "3q2qRGsXIGec"
      },
      "source": [
        "**Data** : https://www.kaggle.com/fedesoriano/stroke-prediction-dataset"
      ]
    },
    {
      "cell_type": "markdown",
      "metadata": {
        "id": "WelgDYyFlLpa"
      },
      "source": [
        "עבודות לדוגמא:\n",
        "https://www.kaggle.com/ahmedterry/stroke-prediction-eda-classification-models\n",
        "\n",
        "https://www.kaggle.com/siddheshera/stroke-eda-smote-9-models-90-accuracy#Encoding-\n"
      ]
    },
    {
      "cell_type": "markdown",
      "metadata": {
        "id": "grwUEyO0EGk_"
      },
      "source": [
        "#Problem Definition\n"
      ]
    },
    {
      "cell_type": "markdown",
      "metadata": {
        "id": "bhx8vDKMN7gN"
      },
      "source": [
        "#Libaries"
      ]
    },
    {
      "cell_type": "code",
      "metadata": {
        "id": "fUKna7DBLqRh"
      },
      "source": [
        "import warnings\n",
        "warnings.filterwarnings('ignore')\n",
        "\n",
        "%matplotlib inline\n",
        "\n",
        "#general tools\n",
        "import numpy as np\n",
        "import pandas as pd\n",
        "import scipy as sp\n",
        "\n",
        "#SKL\n",
        "from sklearn.preprocessing import LabelEncoder\n",
        "\n",
        "#visualization\n",
        "import matplotlib.pyplot as plt\n",
        "import seaborn as sns\n",
        "\n",
        "# For scoring\n",
        "from sklearn.metrics import mean_squared_log_error as msle\n",
        "from sklearn.metrics import mean_squared_error as mse\n",
        "\n",
        "from sklearn.preprocessing import LabelEncoder\n",
        "\n",
        "\n",
        "# import seaborn as sns\n",
        "# import plotly.express as px\n",
        "# import plotly.graph_objects as go\n",
        "from sklearn.model_selection import train_test_split, GridSearchCV\n",
        "from sklearn.preprocessing import StandardScaler\n",
        "# from sklearn.ensemble import AdaBoostClassifier\n",
        "# from sklearn.tree import DecisionTreeClassifier\n",
        "from sklearn.model_selection import cross_val_score\n",
        "from sklearn.linear_model import LogisticRegression\n",
        "# from sklearn.ensemble import GradientBoostingClassifier\n",
        "from sklearn.svm import SVC\n",
        "# from sklearn.ensemble import RandomForestClassifier\n",
        "# from sklearn.ensemble import GradientBoostingClassifier\n",
        "# from sklearn.neural_network import MLPClassifier\n",
        "# from sklearn.metrics import accuracy_score\n",
        "from sklearn.metrics import confusion_matrix, classification_report\n",
        "\n"
      ],
      "execution_count": 25,
      "outputs": []
    },
    {
      "cell_type": "code",
      "metadata": {
        "id": "yG09YFIBsWFt"
      },
      "source": [
        "def csv_drive_path_generatoer(url):\n",
        " '''\n",
        " Help in read csv file directly from google drive.\n",
        " Make sure the csv format is standard.\n",
        " url:str - path to csv file example:\n",
        "   url = 'https://drive.google.com/file/d/126JPZ3lYwdLyJ2d_7jxM9jMtZaOlF-Ld/view?usp=sharing'\n",
        " return : str\n",
        " '''\n",
        " path = 'https://drive.google.com/uc?export=download&id='+url.split('/')[-2]\n",
        " return path"
      ],
      "execution_count": 2,
      "outputs": []
    },
    {
      "cell_type": "code",
      "metadata": {
        "colab": {
          "base_uri": "https://localhost:8080/",
          "height": 238
        },
        "id": "YbFvyfcWshDz",
        "outputId": "d8b7862d-3b85-4d4c-eebf-8ccb24253bee"
      },
      "source": [
        "path = csv_drive_path_generatoer('https://drive.google.com/file/d/1pPNDUrxfKVM1pmtBmlJ91LsdVbR_fUD5/view?usp=sharing')\n",
        "data = pd.read_csv(path)\n",
        "BU=data.copy(deep = True) \n",
        "data.head()"
      ],
      "execution_count": 3,
      "outputs": [
        {
          "output_type": "execute_result",
          "data": {
            "text/html": [
              "<div>\n",
              "<style scoped>\n",
              "    .dataframe tbody tr th:only-of-type {\n",
              "        vertical-align: middle;\n",
              "    }\n",
              "\n",
              "    .dataframe tbody tr th {\n",
              "        vertical-align: top;\n",
              "    }\n",
              "\n",
              "    .dataframe thead th {\n",
              "        text-align: right;\n",
              "    }\n",
              "</style>\n",
              "<table border=\"1\" class=\"dataframe\">\n",
              "  <thead>\n",
              "    <tr style=\"text-align: right;\">\n",
              "      <th></th>\n",
              "      <th>id</th>\n",
              "      <th>gender</th>\n",
              "      <th>age</th>\n",
              "      <th>hypertension</th>\n",
              "      <th>heart_disease</th>\n",
              "      <th>ever_married</th>\n",
              "      <th>work_type</th>\n",
              "      <th>Residence_type</th>\n",
              "      <th>avg_glucose_level</th>\n",
              "      <th>bmi</th>\n",
              "      <th>smoking_status</th>\n",
              "      <th>stroke</th>\n",
              "    </tr>\n",
              "  </thead>\n",
              "  <tbody>\n",
              "    <tr>\n",
              "      <th>0</th>\n",
              "      <td>9046</td>\n",
              "      <td>Male</td>\n",
              "      <td>67.0</td>\n",
              "      <td>0</td>\n",
              "      <td>1</td>\n",
              "      <td>Yes</td>\n",
              "      <td>Private</td>\n",
              "      <td>Urban</td>\n",
              "      <td>228.69</td>\n",
              "      <td>36.6</td>\n",
              "      <td>formerly smoked</td>\n",
              "      <td>1</td>\n",
              "    </tr>\n",
              "    <tr>\n",
              "      <th>1</th>\n",
              "      <td>51676</td>\n",
              "      <td>Female</td>\n",
              "      <td>61.0</td>\n",
              "      <td>0</td>\n",
              "      <td>0</td>\n",
              "      <td>Yes</td>\n",
              "      <td>Self-employed</td>\n",
              "      <td>Rural</td>\n",
              "      <td>202.21</td>\n",
              "      <td>NaN</td>\n",
              "      <td>never smoked</td>\n",
              "      <td>1</td>\n",
              "    </tr>\n",
              "    <tr>\n",
              "      <th>2</th>\n",
              "      <td>31112</td>\n",
              "      <td>Male</td>\n",
              "      <td>80.0</td>\n",
              "      <td>0</td>\n",
              "      <td>1</td>\n",
              "      <td>Yes</td>\n",
              "      <td>Private</td>\n",
              "      <td>Rural</td>\n",
              "      <td>105.92</td>\n",
              "      <td>32.5</td>\n",
              "      <td>never smoked</td>\n",
              "      <td>1</td>\n",
              "    </tr>\n",
              "    <tr>\n",
              "      <th>3</th>\n",
              "      <td>60182</td>\n",
              "      <td>Female</td>\n",
              "      <td>49.0</td>\n",
              "      <td>0</td>\n",
              "      <td>0</td>\n",
              "      <td>Yes</td>\n",
              "      <td>Private</td>\n",
              "      <td>Urban</td>\n",
              "      <td>171.23</td>\n",
              "      <td>34.4</td>\n",
              "      <td>smokes</td>\n",
              "      <td>1</td>\n",
              "    </tr>\n",
              "    <tr>\n",
              "      <th>4</th>\n",
              "      <td>1665</td>\n",
              "      <td>Female</td>\n",
              "      <td>79.0</td>\n",
              "      <td>1</td>\n",
              "      <td>0</td>\n",
              "      <td>Yes</td>\n",
              "      <td>Self-employed</td>\n",
              "      <td>Rural</td>\n",
              "      <td>174.12</td>\n",
              "      <td>24.0</td>\n",
              "      <td>never smoked</td>\n",
              "      <td>1</td>\n",
              "    </tr>\n",
              "  </tbody>\n",
              "</table>\n",
              "</div>"
            ],
            "text/plain": [
              "      id  gender   age  ...   bmi   smoking_status stroke\n",
              "0   9046    Male  67.0  ...  36.6  formerly smoked      1\n",
              "1  51676  Female  61.0  ...   NaN     never smoked      1\n",
              "2  31112    Male  80.0  ...  32.5     never smoked      1\n",
              "3  60182  Female  49.0  ...  34.4           smokes      1\n",
              "4   1665  Female  79.0  ...  24.0     never smoked      1\n",
              "\n",
              "[5 rows x 12 columns]"
            ]
          },
          "metadata": {},
          "execution_count": 3
        }
      ]
    },
    {
      "cell_type": "code",
      "metadata": {
        "id": "j74wmqO8YrYn",
        "colab": {
          "base_uri": "https://localhost:8080/"
        },
        "outputId": "e62d12dc-3cd6-4e99-8655-222e36f2317f"
      },
      "source": [
        "data.shape"
      ],
      "execution_count": 4,
      "outputs": [
        {
          "output_type": "execute_result",
          "data": {
            "text/plain": [
              "(5110, 12)"
            ]
          },
          "metadata": {},
          "execution_count": 4
        }
      ]
    },
    {
      "cell_type": "markdown",
      "metadata": {
        "id": "HmrFDbqROcLY"
      },
      "source": [
        "#Data Exploration & Pre Processing\n",
        "Present data. Explain why it was presented in the manner chosen.\n",
        "For example, Use Histograms / Violin Plots to present data which is statistical and infer its Dynamic Range, Spread, Histogram of Distances, etc...\n",
        "Make some conclusion on the data based on the visual information.\n",
        "For example, look at the corr() plot and say something about the linear relationship between different features.\n",
        "Try estimating the difficulty of achieving the target score\n"
      ]
    },
    {
      "cell_type": "code",
      "metadata": {
        "colab": {
          "base_uri": "https://localhost:8080/"
        },
        "id": "yv_oCJ1URcjZ",
        "outputId": "e6800628-32a7-4bbe-c529-6fafce68f8f0"
      },
      "source": [
        "data.info()"
      ],
      "execution_count": 5,
      "outputs": [
        {
          "output_type": "stream",
          "name": "stdout",
          "text": [
            "<class 'pandas.core.frame.DataFrame'>\n",
            "RangeIndex: 5110 entries, 0 to 5109\n",
            "Data columns (total 12 columns):\n",
            " #   Column             Non-Null Count  Dtype  \n",
            "---  ------             --------------  -----  \n",
            " 0   id                 5110 non-null   int64  \n",
            " 1   gender             5110 non-null   object \n",
            " 2   age                5110 non-null   float64\n",
            " 3   hypertension       5110 non-null   int64  \n",
            " 4   heart_disease      5110 non-null   int64  \n",
            " 5   ever_married       5110 non-null   object \n",
            " 6   work_type          5110 non-null   object \n",
            " 7   Residence_type     5110 non-null   object \n",
            " 8   avg_glucose_level  5110 non-null   float64\n",
            " 9   bmi                4909 non-null   float64\n",
            " 10  smoking_status     5110 non-null   object \n",
            " 11  stroke             5110 non-null   int64  \n",
            "dtypes: float64(3), int64(4), object(5)\n",
            "memory usage: 479.2+ KB\n"
          ]
        }
      ]
    },
    {
      "cell_type": "code",
      "metadata": {
        "colab": {
          "base_uri": "https://localhost:8080/"
        },
        "id": "od7alc-TRgGm",
        "outputId": "b6cf367e-7a1e-47d2-8d1b-795324d7f8e7"
      },
      "source": [
        "data.isnull().sum()"
      ],
      "execution_count": 6,
      "outputs": [
        {
          "output_type": "execute_result",
          "data": {
            "text/plain": [
              "id                     0\n",
              "gender                 0\n",
              "age                    0\n",
              "hypertension           0\n",
              "heart_disease          0\n",
              "ever_married           0\n",
              "work_type              0\n",
              "Residence_type         0\n",
              "avg_glucose_level      0\n",
              "bmi                  201\n",
              "smoking_status         0\n",
              "stroke                 0\n",
              "dtype: int64"
            ]
          },
          "metadata": {},
          "execution_count": 6
        }
      ]
    },
    {
      "cell_type": "code",
      "metadata": {
        "colab": {
          "base_uri": "https://localhost:8080/"
        },
        "id": "_CqXpVrzS9Gg",
        "outputId": "c1dee00b-1e90-428c-f8c9-3e931f6b36d2"
      },
      "source": [
        "#put average value for null BMI\n",
        "bmi_mean = data['bmi'].mean()\n",
        "data['bmi'].fillna(value=bmi_mean, inplace=True)\n",
        "print('bmi_mean:', bmi_mean)\n",
        "\n",
        "#check nulls:\n",
        "print('num of nulls:')\n",
        "print(data.isnull().sum().sum(),'\\n')\n",
        "\n",
        "#\n",
        "data=data[~(data.gender=='Other')]\n",
        "\n",
        "#check Duplicates:\n",
        "print('max of row appearence')\n",
        "data.id.value_counts().max()"
      ],
      "execution_count": 7,
      "outputs": [
        {
          "output_type": "stream",
          "name": "stdout",
          "text": [
            "bmi_mean: 28.893236911794673\n",
            "num of nulls:\n",
            "0 \n",
            "\n",
            "max of row appearence\n"
          ]
        },
        {
          "output_type": "execute_result",
          "data": {
            "text/plain": [
              "1"
            ]
          },
          "metadata": {},
          "execution_count": 7
        }
      ]
    },
    {
      "cell_type": "code",
      "metadata": {
        "id": "8bnbu0Q-c_8M",
        "colab": {
          "base_uri": "https://localhost:8080/",
          "height": 204
        },
        "outputId": "a5338e46-5b2c-4ed7-f152-e7ad6f692174"
      },
      "source": [
        "# אפשר להוריד את עמודת ID\n",
        "data.drop('id', axis=1, inplace=True)\n",
        "data.head()"
      ],
      "execution_count": 8,
      "outputs": [
        {
          "output_type": "execute_result",
          "data": {
            "text/html": [
              "<div>\n",
              "<style scoped>\n",
              "    .dataframe tbody tr th:only-of-type {\n",
              "        vertical-align: middle;\n",
              "    }\n",
              "\n",
              "    .dataframe tbody tr th {\n",
              "        vertical-align: top;\n",
              "    }\n",
              "\n",
              "    .dataframe thead th {\n",
              "        text-align: right;\n",
              "    }\n",
              "</style>\n",
              "<table border=\"1\" class=\"dataframe\">\n",
              "  <thead>\n",
              "    <tr style=\"text-align: right;\">\n",
              "      <th></th>\n",
              "      <th>gender</th>\n",
              "      <th>age</th>\n",
              "      <th>hypertension</th>\n",
              "      <th>heart_disease</th>\n",
              "      <th>ever_married</th>\n",
              "      <th>work_type</th>\n",
              "      <th>Residence_type</th>\n",
              "      <th>avg_glucose_level</th>\n",
              "      <th>bmi</th>\n",
              "      <th>smoking_status</th>\n",
              "      <th>stroke</th>\n",
              "    </tr>\n",
              "  </thead>\n",
              "  <tbody>\n",
              "    <tr>\n",
              "      <th>0</th>\n",
              "      <td>Male</td>\n",
              "      <td>67.0</td>\n",
              "      <td>0</td>\n",
              "      <td>1</td>\n",
              "      <td>Yes</td>\n",
              "      <td>Private</td>\n",
              "      <td>Urban</td>\n",
              "      <td>228.69</td>\n",
              "      <td>36.600000</td>\n",
              "      <td>formerly smoked</td>\n",
              "      <td>1</td>\n",
              "    </tr>\n",
              "    <tr>\n",
              "      <th>1</th>\n",
              "      <td>Female</td>\n",
              "      <td>61.0</td>\n",
              "      <td>0</td>\n",
              "      <td>0</td>\n",
              "      <td>Yes</td>\n",
              "      <td>Self-employed</td>\n",
              "      <td>Rural</td>\n",
              "      <td>202.21</td>\n",
              "      <td>28.893237</td>\n",
              "      <td>never smoked</td>\n",
              "      <td>1</td>\n",
              "    </tr>\n",
              "    <tr>\n",
              "      <th>2</th>\n",
              "      <td>Male</td>\n",
              "      <td>80.0</td>\n",
              "      <td>0</td>\n",
              "      <td>1</td>\n",
              "      <td>Yes</td>\n",
              "      <td>Private</td>\n",
              "      <td>Rural</td>\n",
              "      <td>105.92</td>\n",
              "      <td>32.500000</td>\n",
              "      <td>never smoked</td>\n",
              "      <td>1</td>\n",
              "    </tr>\n",
              "    <tr>\n",
              "      <th>3</th>\n",
              "      <td>Female</td>\n",
              "      <td>49.0</td>\n",
              "      <td>0</td>\n",
              "      <td>0</td>\n",
              "      <td>Yes</td>\n",
              "      <td>Private</td>\n",
              "      <td>Urban</td>\n",
              "      <td>171.23</td>\n",
              "      <td>34.400000</td>\n",
              "      <td>smokes</td>\n",
              "      <td>1</td>\n",
              "    </tr>\n",
              "    <tr>\n",
              "      <th>4</th>\n",
              "      <td>Female</td>\n",
              "      <td>79.0</td>\n",
              "      <td>1</td>\n",
              "      <td>0</td>\n",
              "      <td>Yes</td>\n",
              "      <td>Self-employed</td>\n",
              "      <td>Rural</td>\n",
              "      <td>174.12</td>\n",
              "      <td>24.000000</td>\n",
              "      <td>never smoked</td>\n",
              "      <td>1</td>\n",
              "    </tr>\n",
              "  </tbody>\n",
              "</table>\n",
              "</div>"
            ],
            "text/plain": [
              "   gender   age  hypertension  ...        bmi   smoking_status stroke\n",
              "0    Male  67.0             0  ...  36.600000  formerly smoked      1\n",
              "1  Female  61.0             0  ...  28.893237     never smoked      1\n",
              "2    Male  80.0             0  ...  32.500000     never smoked      1\n",
              "3  Female  49.0             0  ...  34.400000           smokes      1\n",
              "4  Female  79.0             1  ...  24.000000     never smoked      1\n",
              "\n",
              "[5 rows x 11 columns]"
            ]
          },
          "metadata": {},
          "execution_count": 8
        }
      ]
    },
    {
      "cell_type": "code",
      "metadata": {
        "colab": {
          "base_uri": "https://localhost:8080/",
          "height": 297
        },
        "id": "7J8IXAeISQuM",
        "outputId": "547a56ba-840f-45e9-f82d-a447aa64b510"
      },
      "source": [
        "data.describe()"
      ],
      "execution_count": 9,
      "outputs": [
        {
          "output_type": "execute_result",
          "data": {
            "text/html": [
              "<div>\n",
              "<style scoped>\n",
              "    .dataframe tbody tr th:only-of-type {\n",
              "        vertical-align: middle;\n",
              "    }\n",
              "\n",
              "    .dataframe tbody tr th {\n",
              "        vertical-align: top;\n",
              "    }\n",
              "\n",
              "    .dataframe thead th {\n",
              "        text-align: right;\n",
              "    }\n",
              "</style>\n",
              "<table border=\"1\" class=\"dataframe\">\n",
              "  <thead>\n",
              "    <tr style=\"text-align: right;\">\n",
              "      <th></th>\n",
              "      <th>age</th>\n",
              "      <th>hypertension</th>\n",
              "      <th>heart_disease</th>\n",
              "      <th>avg_glucose_level</th>\n",
              "      <th>bmi</th>\n",
              "      <th>stroke</th>\n",
              "    </tr>\n",
              "  </thead>\n",
              "  <tbody>\n",
              "    <tr>\n",
              "      <th>count</th>\n",
              "      <td>5109.000000</td>\n",
              "      <td>5109.000000</td>\n",
              "      <td>5109.000000</td>\n",
              "      <td>5109.000000</td>\n",
              "      <td>5109.000000</td>\n",
              "      <td>5109.000000</td>\n",
              "    </tr>\n",
              "    <tr>\n",
              "      <th>mean</th>\n",
              "      <td>43.229986</td>\n",
              "      <td>0.097475</td>\n",
              "      <td>0.054022</td>\n",
              "      <td>106.140399</td>\n",
              "      <td>28.894508</td>\n",
              "      <td>0.048738</td>\n",
              "    </tr>\n",
              "    <tr>\n",
              "      <th>std</th>\n",
              "      <td>22.613575</td>\n",
              "      <td>0.296633</td>\n",
              "      <td>0.226084</td>\n",
              "      <td>45.285004</td>\n",
              "      <td>7.698235</td>\n",
              "      <td>0.215340</td>\n",
              "    </tr>\n",
              "    <tr>\n",
              "      <th>min</th>\n",
              "      <td>0.080000</td>\n",
              "      <td>0.000000</td>\n",
              "      <td>0.000000</td>\n",
              "      <td>55.120000</td>\n",
              "      <td>10.300000</td>\n",
              "      <td>0.000000</td>\n",
              "    </tr>\n",
              "    <tr>\n",
              "      <th>25%</th>\n",
              "      <td>25.000000</td>\n",
              "      <td>0.000000</td>\n",
              "      <td>0.000000</td>\n",
              "      <td>77.240000</td>\n",
              "      <td>23.800000</td>\n",
              "      <td>0.000000</td>\n",
              "    </tr>\n",
              "    <tr>\n",
              "      <th>50%</th>\n",
              "      <td>45.000000</td>\n",
              "      <td>0.000000</td>\n",
              "      <td>0.000000</td>\n",
              "      <td>91.880000</td>\n",
              "      <td>28.400000</td>\n",
              "      <td>0.000000</td>\n",
              "    </tr>\n",
              "    <tr>\n",
              "      <th>75%</th>\n",
              "      <td>61.000000</td>\n",
              "      <td>0.000000</td>\n",
              "      <td>0.000000</td>\n",
              "      <td>114.090000</td>\n",
              "      <td>32.800000</td>\n",
              "      <td>0.000000</td>\n",
              "    </tr>\n",
              "    <tr>\n",
              "      <th>max</th>\n",
              "      <td>82.000000</td>\n",
              "      <td>1.000000</td>\n",
              "      <td>1.000000</td>\n",
              "      <td>271.740000</td>\n",
              "      <td>97.600000</td>\n",
              "      <td>1.000000</td>\n",
              "    </tr>\n",
              "  </tbody>\n",
              "</table>\n",
              "</div>"
            ],
            "text/plain": [
              "               age  hypertension  ...          bmi       stroke\n",
              "count  5109.000000   5109.000000  ...  5109.000000  5109.000000\n",
              "mean     43.229986      0.097475  ...    28.894508     0.048738\n",
              "std      22.613575      0.296633  ...     7.698235     0.215340\n",
              "min       0.080000      0.000000  ...    10.300000     0.000000\n",
              "25%      25.000000      0.000000  ...    23.800000     0.000000\n",
              "50%      45.000000      0.000000  ...    28.400000     0.000000\n",
              "75%      61.000000      0.000000  ...    32.800000     0.000000\n",
              "max      82.000000      1.000000  ...    97.600000     1.000000\n",
              "\n",
              "[8 rows x 6 columns]"
            ]
          },
          "metadata": {},
          "execution_count": 9
        }
      ]
    },
    {
      "cell_type": "code",
      "metadata": {
        "colab": {
          "base_uri": "https://localhost:8080/",
          "height": 266
        },
        "id": "3_VYyCoA75Tl",
        "outputId": "15d6688d-d515-4240-dffb-668be44c3a08"
      },
      "source": [
        "data.plot(kind='box')\n",
        "plt.show()"
      ],
      "execution_count": 10,
      "outputs": [
        {
          "output_type": "display_data",
          "data": {
            "image/png": "[encoded data removed]",
            "text/plain": [
              "<Figure size 432x288 with 1 Axes>"
            ]
          },
          "metadata": {
            "needs_background": "light"
          }
        }
      ]
    },
    {
      "cell_type": "code",
      "metadata": {
        "colab": {
          "base_uri": "https://localhost:8080/",
          "height": 266
        },
        "id": "1zaJ_gt2B8PI",
        "outputId": "5754bee3-c7fd-4396-9d54-296f89cf99fe"
      },
      "source": [
        "data.avg_glucose_level.plot(kind='box')\n",
        "plt.show()"
      ],
      "execution_count": 11,
      "outputs": [
        {
          "output_type": "display_data",
          "data": {
            "image/png": "[encoded data removed]",
            "text/plain": [
              "<Figure size 432x288 with 1 Axes>"
            ]
          },
          "metadata": {
            "needs_background": "light"
          }
        }
      ]
    },
    {
      "cell_type": "markdown",
      "metadata": {
        "id": "vJG5NeKUB_6x"
      },
      "source": [
        "עומד על כ 25% מהדאטה ולכן לא נמחק"
      ]
    },
    {
      "cell_type": "code",
      "metadata": {
        "colab": {
          "base_uri": "https://localhost:8080/",
          "height": 265
        },
        "id": "PWb0nBCTB-hN",
        "outputId": "1748348e-4b8d-46c9-f7f2-63806e02716f"
      },
      "source": [
        "data.bmi.plot(kind='box')\n",
        "plt.show()"
      ],
      "execution_count": 12,
      "outputs": [
        {
          "output_type": "display_data",
          "data": {
            "image/png": "[encoded data removed]",
            "text/plain": [
              "<Figure size 432x288 with 1 Axes>"
            ]
          },
          "metadata": {
            "needs_background": "light"
          }
        }
      ]
    },
    {
      "cell_type": "markdown",
      "metadata": {
        "id": "sYVdaVoPCD7n"
      },
      "source": [
        "רצוי למחוק את 4-5 האוט-ליירים"
      ]
    },
    {
      "cell_type": "code",
      "metadata": {
        "colab": {
          "base_uri": "https://localhost:8080/"
        },
        "id": "qkvHPa-4CCfP",
        "outputId": "7d116759-98d6-4432-8c68-334fe32a4e48"
      },
      "source": [
        "data.bmi.sort_values()"
      ],
      "execution_count": 13,
      "outputs": [
        {
          "output_type": "execute_result",
          "data": {
            "text/plain": [
              "1609    10.3\n",
              "3307    11.3\n",
              "2187    11.5\n",
              "657     12.0\n",
              "922     12.3\n",
              "        ... \n",
              "1559    66.8\n",
              "544     71.9\n",
              "928     78.0\n",
              "4209    92.0\n",
              "2128    97.6\n",
              "Name: bmi, Length: 5109, dtype: float64"
            ]
          },
          "metadata": {},
          "execution_count": 13
        }
      ]
    },
    {
      "cell_type": "code",
      "metadata": {
        "colab": {
          "base_uri": "https://localhost:8080/"
        },
        "id": "55DVR0W4CTFI",
        "outputId": "b945baed-f156-44d6-94a4-733a62cedab4"
      },
      "source": [
        "print(data.iloc[[1559, 544, 928, 4209, 2128]])"
      ],
      "execution_count": 14,
      "outputs": [
        {
          "output_type": "stream",
          "name": "stdout",
          "text": [
            "      gender   age  hypertension  ...   bmi smoking_status stroke\n",
            "1559  Female  53.0             0  ...  66.8        Unknown      0\n",
            "544     Male  42.0             0  ...  71.9   never smoked      0\n",
            "928   Female  23.0             1  ...  78.0         smokes      0\n",
            "4210  Female  15.0             0  ...  38.0   never smoked      0\n",
            "2128    Male  17.0             1  ...  97.6        Unknown      0\n",
            "\n",
            "[5 rows x 11 columns]\n"
          ]
        }
      ]
    },
    {
      "cell_type": "code",
      "metadata": {
        "colab": {
          "base_uri": "https://localhost:8080/",
          "height": 487
        },
        "id": "izcZrMAjCVEb",
        "outputId": "dbd1900d-3e82-49e7-b1a9-7705ebe3badb"
      },
      "source": [
        "data = data.drop(1559)\n",
        "data = data.drop(544)\n",
        "data = data.drop(928)\n",
        "data = data.drop(4209)\n",
        "data = data.drop(2128)\n",
        "data"
      ],
      "execution_count": 15,
      "outputs": [
        {
          "output_type": "execute_result",
          "data": {
            "text/html": [
              "<div>\n",
              "<style scoped>\n",
              "    .dataframe tbody tr th:only-of-type {\n",
              "        vertical-align: middle;\n",
              "    }\n",
              "\n",
              "    .dataframe tbody tr th {\n",
              "        vertical-align: top;\n",
              "    }\n",
              "\n",
              "    .dataframe thead th {\n",
              "        text-align: right;\n",
              "    }\n",
              "</style>\n",
              "<table border=\"1\" class=\"dataframe\">\n",
              "  <thead>\n",
              "    <tr style=\"text-align: right;\">\n",
              "      <th></th>\n",
              "      <th>gender</th>\n",
              "      <th>age</th>\n",
              "      <th>hypertension</th>\n",
              "      <th>heart_disease</th>\n",
              "      <th>ever_married</th>\n",
              "      <th>work_type</th>\n",
              "      <th>Residence_type</th>\n",
              "      <th>avg_glucose_level</th>\n",
              "      <th>bmi</th>\n",
              "      <th>smoking_status</th>\n",
              "      <th>stroke</th>\n",
              "    </tr>\n",
              "  </thead>\n",
              "  <tbody>\n",
              "    <tr>\n",
              "      <th>0</th>\n",
              "      <td>Male</td>\n",
              "      <td>67.0</td>\n",
              "      <td>0</td>\n",
              "      <td>1</td>\n",
              "      <td>Yes</td>\n",
              "      <td>Private</td>\n",
              "      <td>Urban</td>\n",
              "      <td>228.69</td>\n",
              "      <td>36.600000</td>\n",
              "      <td>formerly smoked</td>\n",
              "      <td>1</td>\n",
              "    </tr>\n",
              "    <tr>\n",
              "      <th>1</th>\n",
              "      <td>Female</td>\n",
              "      <td>61.0</td>\n",
              "      <td>0</td>\n",
              "      <td>0</td>\n",
              "      <td>Yes</td>\n",
              "      <td>Self-employed</td>\n",
              "      <td>Rural</td>\n",
              "      <td>202.21</td>\n",
              "      <td>28.893237</td>\n",
              "      <td>never smoked</td>\n",
              "      <td>1</td>\n",
              "    </tr>\n",
              "    <tr>\n",
              "      <th>2</th>\n",
              "      <td>Male</td>\n",
              "      <td>80.0</td>\n",
              "      <td>0</td>\n",
              "      <td>1</td>\n",
              "      <td>Yes</td>\n",
              "      <td>Private</td>\n",
              "      <td>Rural</td>\n",
              "      <td>105.92</td>\n",
              "      <td>32.500000</td>\n",
              "      <td>never smoked</td>\n",
              "      <td>1</td>\n",
              "    </tr>\n",
              "    <tr>\n",
              "      <th>3</th>\n",
              "      <td>Female</td>\n",
              "      <td>49.0</td>\n",
              "      <td>0</td>\n",
              "      <td>0</td>\n",
              "      <td>Yes</td>\n",
              "      <td>Private</td>\n",
              "      <td>Urban</td>\n",
              "      <td>171.23</td>\n",
              "      <td>34.400000</td>\n",
              "      <td>smokes</td>\n",
              "      <td>1</td>\n",
              "    </tr>\n",
              "    <tr>\n",
              "      <th>4</th>\n",
              "      <td>Female</td>\n",
              "      <td>79.0</td>\n",
              "      <td>1</td>\n",
              "      <td>0</td>\n",
              "      <td>Yes</td>\n",
              "      <td>Self-employed</td>\n",
              "      <td>Rural</td>\n",
              "      <td>174.12</td>\n",
              "      <td>24.000000</td>\n",
              "      <td>never smoked</td>\n",
              "      <td>1</td>\n",
              "    </tr>\n",
              "    <tr>\n",
              "      <th>...</th>\n",
              "      <td>...</td>\n",
              "      <td>...</td>\n",
              "      <td>...</td>\n",
              "      <td>...</td>\n",
              "      <td>...</td>\n",
              "      <td>...</td>\n",
              "      <td>...</td>\n",
              "      <td>...</td>\n",
              "      <td>...</td>\n",
              "      <td>...</td>\n",
              "      <td>...</td>\n",
              "    </tr>\n",
              "    <tr>\n",
              "      <th>5105</th>\n",
              "      <td>Female</td>\n",
              "      <td>80.0</td>\n",
              "      <td>1</td>\n",
              "      <td>0</td>\n",
              "      <td>Yes</td>\n",
              "      <td>Private</td>\n",
              "      <td>Urban</td>\n",
              "      <td>83.75</td>\n",
              "      <td>28.893237</td>\n",
              "      <td>never smoked</td>\n",
              "      <td>0</td>\n",
              "    </tr>\n",
              "    <tr>\n",
              "      <th>5106</th>\n",
              "      <td>Female</td>\n",
              "      <td>81.0</td>\n",
              "      <td>0</td>\n",
              "      <td>0</td>\n",
              "      <td>Yes</td>\n",
              "      <td>Self-employed</td>\n",
              "      <td>Urban</td>\n",
              "      <td>125.20</td>\n",
              "      <td>40.000000</td>\n",
              "      <td>never smoked</td>\n",
              "      <td>0</td>\n",
              "    </tr>\n",
              "    <tr>\n",
              "      <th>5107</th>\n",
              "      <td>Female</td>\n",
              "      <td>35.0</td>\n",
              "      <td>0</td>\n",
              "      <td>0</td>\n",
              "      <td>Yes</td>\n",
              "      <td>Self-employed</td>\n",
              "      <td>Rural</td>\n",
              "      <td>82.99</td>\n",
              "      <td>30.600000</td>\n",
              "      <td>never smoked</td>\n",
              "      <td>0</td>\n",
              "    </tr>\n",
              "    <tr>\n",
              "      <th>5108</th>\n",
              "      <td>Male</td>\n",
              "      <td>51.0</td>\n",
              "      <td>0</td>\n",
              "      <td>0</td>\n",
              "      <td>Yes</td>\n",
              "      <td>Private</td>\n",
              "      <td>Rural</td>\n",
              "      <td>166.29</td>\n",
              "      <td>25.600000</td>\n",
              "      <td>formerly smoked</td>\n",
              "      <td>0</td>\n",
              "    </tr>\n",
              "    <tr>\n",
              "      <th>5109</th>\n",
              "      <td>Female</td>\n",
              "      <td>44.0</td>\n",
              "      <td>0</td>\n",
              "      <td>0</td>\n",
              "      <td>Yes</td>\n",
              "      <td>Govt_job</td>\n",
              "      <td>Urban</td>\n",
              "      <td>85.28</td>\n",
              "      <td>26.200000</td>\n",
              "      <td>Unknown</td>\n",
              "      <td>0</td>\n",
              "    </tr>\n",
              "  </tbody>\n",
              "</table>\n",
              "<p>5104 rows × 11 columns</p>\n",
              "</div>"
            ],
            "text/plain": [
              "      gender   age  hypertension  ...        bmi   smoking_status stroke\n",
              "0       Male  67.0             0  ...  36.600000  formerly smoked      1\n",
              "1     Female  61.0             0  ...  28.893237     never smoked      1\n",
              "2       Male  80.0             0  ...  32.500000     never smoked      1\n",
              "3     Female  49.0             0  ...  34.400000           smokes      1\n",
              "4     Female  79.0             1  ...  24.000000     never smoked      1\n",
              "...      ...   ...           ...  ...        ...              ...    ...\n",
              "5105  Female  80.0             1  ...  28.893237     never smoked      0\n",
              "5106  Female  81.0             0  ...  40.000000     never smoked      0\n",
              "5107  Female  35.0             0  ...  30.600000     never smoked      0\n",
              "5108    Male  51.0             0  ...  25.600000  formerly smoked      0\n",
              "5109  Female  44.0             0  ...  26.200000          Unknown      0\n",
              "\n",
              "[5104 rows x 11 columns]"
            ]
          },
          "metadata": {},
          "execution_count": 15
        }
      ]
    },
    {
      "cell_type": "code",
      "metadata": {
        "colab": {
          "base_uri": "https://localhost:8080/",
          "height": 529
        },
        "id": "H9bmckaLY2PX",
        "outputId": "8e0b2ba8-946f-45e7-efc3-f276dddb1176"
      },
      "source": [
        "fig, axes = plt.subplots(1,3,figsize=(11,7),constrained_layout=True)\n",
        "sns.distplot(data.bmi, color=\"orange\", label=\"bmi\", kde= True,ax=axes[0], bins=30,)\n",
        "sns.distplot(data.avg_glucose_level, color=\"green\", label=\"avg_glucose_level\", kde= True,ax=axes[1],bins=30)\n",
        "sns.distplot(data.age, label=\"avg_glucose_level\", kde= True,ax=axes[2],bins=30)\n",
        "fig.suptitle('Horizontally stacked subplots')\n",
        "fig.legend();\n"
      ],
      "execution_count": 16,
      "outputs": [
        {
          "output_type": "display_data",
          "data": {
            "image/png": "[encoded data removed]",
            "text/plain": [
              "<Figure size 792x504 with 3 Axes>"
            ]
          },
          "metadata": {
            "needs_background": "light"
          }
        }
      ]
    },
    {
      "cell_type": "code",
      "metadata": {
        "colab": {
          "base_uri": "https://localhost:8080/",
          "height": 369
        },
        "id": "ZrMR8fUubLuy",
        "outputId": "071a25b6-5aa1-4f51-d845-7b095e012cb4"
      },
      "source": [
        "#Work Type\n",
        "sns.catplot(y=\"work_type\", hue=\"stroke\", kind=\"count\",palette=\"pastel\", edgecolor=\".6\",data=data);"
      ],
      "execution_count": null,
      "outputs": [
        {
          "output_type": "display_data",
          "data": {
            "image/png": "[encoded data removed]",
            "text/plain": [
              "<Figure size 402.375x360 with 1 Axes>"
            ]
          },
          "metadata": {
            "needs_background": "light"
          }
        }
      ]
    },
    {
      "cell_type": "code",
      "metadata": {
        "colab": {
          "base_uri": "https://localhost:8080/",
          "height": 386
        },
        "id": "Cxm8vjzXbcJU",
        "outputId": "e16e57b5-b5e8-423b-9d17-a7ec6e03ccf6"
      },
      "source": [
        "##SMOKING status\n",
        "sns.catplot(y=\"smoking_status\", hue=\"stroke\", kind=\"count\",palette=\"pastel\", edgecolor=\".6\",data=data)"
      ],
      "execution_count": null,
      "outputs": [
        {
          "output_type": "execute_result",
          "data": {
            "text/plain": [
              "<seaborn.axisgrid.FacetGrid at 0x7f89274cd590>"
            ]
          },
          "metadata": {},
          "execution_count": 24
        },
        {
          "output_type": "display_data",
          "data": {
            "image/png": "[encoded data removed]",
            "text/plain": [
              "<Figure size 402.375x360 with 1 Axes>"
            ]
          },
          "metadata": {
            "needs_background": "light"
          }
        }
      ]
    },
    {
      "cell_type": "code",
      "metadata": {
        "id": "hQqMjvjTWHbR"
      },
      "source": [
        "📌 1. In term of proportion private and self-employed have the similar amount of people having a stroke. However people from the gouvernment are more likely to not have a stroke compared to both first gategories moreover chlidren are not very likekly to get a stroke. Maybe that could be explain due to the degree of pressure felt by workers\n",
        "\n",
        "📌 2. Surprisingly, it seems that the stroke is not highly corralated to smokers since the proportion of person having a stroke is fairly the same among the different smoking status."
      ],
      "execution_count": null,
      "outputs": []
    },
    {
      "cell_type": "code",
      "metadata": {
        "colab": {
          "base_uri": "https://localhost:8080/",
          "height": 555
        },
        "id": "4yKUIp5CTr1E",
        "outputId": "8926ca04-dae4-4872-c546-8a474f904dc4"
      },
      "source": [
        "# Compute the correlation matrix\n",
        "corr = data.corr()\n",
        "\n",
        "# Generate a mask for the upper triangle\n",
        "mask = np.triu(np.ones_like(corr, dtype=bool))\n",
        "\n",
        "# Set up the matplotlib figure\n",
        "f, ax = plt.subplots(figsize=(11, 9))\n",
        "\n",
        "# Generate a custom diverging colormap\n",
        "cmap = sns.diverging_palette(230, 20, as_cmap=True)\n",
        "\n",
        "# Draw the heatmap with the mask and correct aspect ratio\n",
        "sns.heatmap(corr, mask=mask, cmap=cmap, vmax=.3, center=0, square=True, linewidths=.5, cbar_kws={\"shrink\": .5},annot=True)"
      ],
      "execution_count": null,
      "outputs": [
        {
          "output_type": "execute_result",
          "data": {
            "text/plain": [
              "<matplotlib.axes._subplots.AxesSubplot at 0x7f892748dc90>"
            ]
          },
          "metadata": {},
          "execution_count": 26
        },
        {
          "output_type": "display_data",
          "data": {
            "image/png": "[encoded data removed]",
            "text/plain": [
              "<Figure size 792x648 with 2 Axes>"
            ]
          },
          "metadata": {
            "needs_background": "light"
          }
        }
      ]
    },
    {
      "cell_type": "code",
      "metadata": {
        "colab": {
          "base_uri": "https://localhost:8080/",
          "height": 204
        },
        "id": "oY1IhgtiYkdH",
        "outputId": "e9033ed1-7e05-4b9e-87da-548d86f8a52a"
      },
      "source": [
        "data.head()"
      ],
      "execution_count": null,
      "outputs": [
        {
          "output_type": "execute_result",
          "data": {
            "text/html": [
              "<div>\n",
              "<style scoped>\n",
              "    .dataframe tbody tr th:only-of-type {\n",
              "        vertical-align: middle;\n",
              "    }\n",
              "\n",
              "    .dataframe tbody tr th {\n",
              "        vertical-align: top;\n",
              "    }\n",
              "\n",
              "    .dataframe thead th {\n",
              "        text-align: right;\n",
              "    }\n",
              "</style>\n",
              "<table border=\"1\" class=\"dataframe\">\n",
              "  <thead>\n",
              "    <tr style=\"text-align: right;\">\n",
              "      <th></th>\n",
              "      <th>gender</th>\n",
              "      <th>age</th>\n",
              "      <th>hypertension</th>\n",
              "      <th>heart_disease</th>\n",
              "      <th>ever_married</th>\n",
              "      <th>work_type</th>\n",
              "      <th>Residence_type</th>\n",
              "      <th>avg_glucose_level</th>\n",
              "      <th>bmi</th>\n",
              "      <th>smoking_status</th>\n",
              "      <th>stroke</th>\n",
              "    </tr>\n",
              "  </thead>\n",
              "  <tbody>\n",
              "    <tr>\n",
              "      <th>0</th>\n",
              "      <td>Male</td>\n",
              "      <td>67.0</td>\n",
              "      <td>0</td>\n",
              "      <td>1</td>\n",
              "      <td>Yes</td>\n",
              "      <td>Private</td>\n",
              "      <td>Urban</td>\n",
              "      <td>228.69</td>\n",
              "      <td>36.600000</td>\n",
              "      <td>formerly smoked</td>\n",
              "      <td>1</td>\n",
              "    </tr>\n",
              "    <tr>\n",
              "      <th>1</th>\n",
              "      <td>Female</td>\n",
              "      <td>61.0</td>\n",
              "      <td>0</td>\n",
              "      <td>0</td>\n",
              "      <td>Yes</td>\n",
              "      <td>Self-employed</td>\n",
              "      <td>Rural</td>\n",
              "      <td>202.21</td>\n",
              "      <td>28.893237</td>\n",
              "      <td>never smoked</td>\n",
              "      <td>1</td>\n",
              "    </tr>\n",
              "    <tr>\n",
              "      <th>2</th>\n",
              "      <td>Male</td>\n",
              "      <td>80.0</td>\n",
              "      <td>0</td>\n",
              "      <td>1</td>\n",
              "      <td>Yes</td>\n",
              "      <td>Private</td>\n",
              "      <td>Rural</td>\n",
              "      <td>105.92</td>\n",
              "      <td>32.500000</td>\n",
              "      <td>never smoked</td>\n",
              "      <td>1</td>\n",
              "    </tr>\n",
              "    <tr>\n",
              "      <th>3</th>\n",
              "      <td>Female</td>\n",
              "      <td>49.0</td>\n",
              "      <td>0</td>\n",
              "      <td>0</td>\n",
              "      <td>Yes</td>\n",
              "      <td>Private</td>\n",
              "      <td>Urban</td>\n",
              "      <td>171.23</td>\n",
              "      <td>34.400000</td>\n",
              "      <td>smokes</td>\n",
              "      <td>1</td>\n",
              "    </tr>\n",
              "    <tr>\n",
              "      <th>4</th>\n",
              "      <td>Female</td>\n",
              "      <td>79.0</td>\n",
              "      <td>1</td>\n",
              "      <td>0</td>\n",
              "      <td>Yes</td>\n",
              "      <td>Self-employed</td>\n",
              "      <td>Rural</td>\n",
              "      <td>174.12</td>\n",
              "      <td>24.000000</td>\n",
              "      <td>never smoked</td>\n",
              "      <td>1</td>\n",
              "    </tr>\n",
              "  </tbody>\n",
              "</table>\n",
              "</div>"
            ],
            "text/plain": [
              "   gender   age  hypertension  ...        bmi   smoking_status stroke\n",
              "0    Male  67.0             0  ...  36.600000  formerly smoked      1\n",
              "1  Female  61.0             0  ...  28.893237     never smoked      1\n",
              "2    Male  80.0             0  ...  32.500000     never smoked      1\n",
              "3  Female  49.0             0  ...  34.400000           smokes      1\n",
              "4  Female  79.0             1  ...  24.000000     never smoked      1\n",
              "\n",
              "[5 rows x 11 columns]"
            ]
          },
          "metadata": {},
          "execution_count": 27
        }
      ]
    },
    {
      "cell_type": "code",
      "metadata": {
        "colab": {
          "base_uri": "https://localhost:8080/",
          "height": 631
        },
        "id": "boQe4LYzdIKw",
        "outputId": "ec1941aa-f758-4443-de3f-ac5b779236b2"
      },
      "source": [
        "cat_df = data[['gender','hypertension', 'heart_disease', 'ever_married', 'work_type', 'Residence_type', 'smoking_status','stroke']]\n",
        "summary = pd.concat([pd.crosstab(cat_df[x], cat_df.stroke) for x in cat_df.columns[:-1]], keys=cat_df.columns[:-1])\n",
        "summary\n"
      ],
      "execution_count": null,
      "outputs": [
        {
          "output_type": "execute_result",
          "data": {
            "text/html": [
              "<div>\n",
              "<style scoped>\n",
              "    .dataframe tbody tr th:only-of-type {\n",
              "        vertical-align: middle;\n",
              "    }\n",
              "\n",
              "    .dataframe tbody tr th {\n",
              "        vertical-align: top;\n",
              "    }\n",
              "\n",
              "    .dataframe thead th {\n",
              "        text-align: right;\n",
              "    }\n",
              "</style>\n",
              "<table border=\"1\" class=\"dataframe\">\n",
              "  <thead>\n",
              "    <tr style=\"text-align: right;\">\n",
              "      <th></th>\n",
              "      <th>stroke</th>\n",
              "      <th>0</th>\n",
              "      <th>1</th>\n",
              "    </tr>\n",
              "  </thead>\n",
              "  <tbody>\n",
              "    <tr>\n",
              "      <th rowspan=\"2\" valign=\"top\">gender</th>\n",
              "      <th>Female</th>\n",
              "      <td>2851</td>\n",
              "      <td>141</td>\n",
              "    </tr>\n",
              "    <tr>\n",
              "      <th>Male</th>\n",
              "      <td>2004</td>\n",
              "      <td>108</td>\n",
              "    </tr>\n",
              "    <tr>\n",
              "      <th rowspan=\"2\" valign=\"top\">hypertension</th>\n",
              "      <th>0</th>\n",
              "      <td>4426</td>\n",
              "      <td>183</td>\n",
              "    </tr>\n",
              "    <tr>\n",
              "      <th>1</th>\n",
              "      <td>429</td>\n",
              "      <td>66</td>\n",
              "    </tr>\n",
              "    <tr>\n",
              "      <th rowspan=\"2\" valign=\"top\">heart_disease</th>\n",
              "      <th>0</th>\n",
              "      <td>4626</td>\n",
              "      <td>202</td>\n",
              "    </tr>\n",
              "    <tr>\n",
              "      <th>1</th>\n",
              "      <td>229</td>\n",
              "      <td>47</td>\n",
              "    </tr>\n",
              "    <tr>\n",
              "      <th rowspan=\"2\" valign=\"top\">ever_married</th>\n",
              "      <th>No</th>\n",
              "      <td>1725</td>\n",
              "      <td>29</td>\n",
              "    </tr>\n",
              "    <tr>\n",
              "      <th>Yes</th>\n",
              "      <td>3130</td>\n",
              "      <td>220</td>\n",
              "    </tr>\n",
              "    <tr>\n",
              "      <th rowspan=\"5\" valign=\"top\">work_type</th>\n",
              "      <th>Govt_job</th>\n",
              "      <td>624</td>\n",
              "      <td>33</td>\n",
              "    </tr>\n",
              "    <tr>\n",
              "      <th>Never_worked</th>\n",
              "      <td>22</td>\n",
              "      <td>0</td>\n",
              "    </tr>\n",
              "    <tr>\n",
              "      <th>Private</th>\n",
              "      <td>2770</td>\n",
              "      <td>149</td>\n",
              "    </tr>\n",
              "    <tr>\n",
              "      <th>Self-employed</th>\n",
              "      <td>754</td>\n",
              "      <td>65</td>\n",
              "    </tr>\n",
              "    <tr>\n",
              "      <th>children</th>\n",
              "      <td>685</td>\n",
              "      <td>2</td>\n",
              "    </tr>\n",
              "    <tr>\n",
              "      <th rowspan=\"2\" valign=\"top\">Residence_type</th>\n",
              "      <th>Rural</th>\n",
              "      <td>2395</td>\n",
              "      <td>114</td>\n",
              "    </tr>\n",
              "    <tr>\n",
              "      <th>Urban</th>\n",
              "      <td>2460</td>\n",
              "      <td>135</td>\n",
              "    </tr>\n",
              "    <tr>\n",
              "      <th rowspan=\"4\" valign=\"top\">smoking_status</th>\n",
              "      <th>Unknown</th>\n",
              "      <td>1495</td>\n",
              "      <td>47</td>\n",
              "    </tr>\n",
              "    <tr>\n",
              "      <th>formerly smoked</th>\n",
              "      <td>814</td>\n",
              "      <td>70</td>\n",
              "    </tr>\n",
              "    <tr>\n",
              "      <th>never smoked</th>\n",
              "      <td>1800</td>\n",
              "      <td>90</td>\n",
              "    </tr>\n",
              "    <tr>\n",
              "      <th>smokes</th>\n",
              "      <td>746</td>\n",
              "      <td>42</td>\n",
              "    </tr>\n",
              "  </tbody>\n",
              "</table>\n",
              "</div>"
            ],
            "text/plain": [
              "stroke                             0    1\n",
              "gender         Female           2851  141\n",
              "               Male             2004  108\n",
              "hypertension   0                4426  183\n",
              "               1                 429   66\n",
              "heart_disease  0                4626  202\n",
              "               1                 229   47\n",
              "ever_married   No               1725   29\n",
              "               Yes              3130  220\n",
              "work_type      Govt_job          624   33\n",
              "               Never_worked       22    0\n",
              "               Private          2770  149\n",
              "               Self-employed     754   65\n",
              "               children          685    2\n",
              "Residence_type Rural            2395  114\n",
              "               Urban            2460  135\n",
              "smoking_status Unknown          1495   47\n",
              "               formerly smoked   814   70\n",
              "               never smoked     1800   90\n",
              "               smokes            746   42"
            ]
          },
          "metadata": {},
          "execution_count": 29
        }
      ]
    },
    {
      "cell_type": "code",
      "metadata": {
        "colab": {
          "base_uri": "https://localhost:8080/"
        },
        "id": "uUarLLy-YrL3",
        "outputId": "fc8eb043-947b-46fb-f6d9-35f9b24f0310"
      },
      "source": [
        "# tאחוזי מקבלי השבץ מכלל האוכלוסיה הספציפית\n",
        "s=data.work_type.value_counts()\n",
        "p=data.groupby(['work_type']).sum('stroke')['stroke'] \n",
        "p/s"
      ],
      "execution_count": null,
      "outputs": [
        {
          "output_type": "execute_result",
          "data": {
            "text/plain": [
              "Govt_job         0.050228\n",
              "Never_worked     0.000000\n",
              "Private          0.050958\n",
              "Self-employed    0.079365\n",
              "children         0.002911\n",
              "dtype: float64"
            ]
          },
          "metadata": {},
          "execution_count": 29
        }
      ]
    },
    {
      "cell_type": "markdown",
      "metadata": {
        "id": "NXZhAvwidNDl"
      },
      "source": [
        "לשקול להורד למטה"
      ]
    },
    {
      "cell_type": "code",
      "metadata": {
        "colab": {
          "base_uri": "https://localhost:8080/",
          "height": 623
        },
        "id": "IJe0QXL1g_PE",
        "outputId": "af88af54-6525-4ec7-e6f6-5a26d112939e"
      },
      "source": [
        "plt.figure(figsize=(12,10))\n",
        "\n",
        "sns.distplot(data[data['stroke'] == 0][\"age\"], color='green') # No Stroke - green\n",
        "sns.distplot(data[data['stroke'] == 1][\"age\"], color='red') # Stroke - Red\n",
        "\n",
        "plt.title('No Stroke vs Stroke by Age', fontsize=15)\n",
        "plt.legend(['No Stroke','Stroke'])\n",
        "plt.xlim([18,100])\n",
        "plt.show();"
      ],
      "execution_count": null,
      "outputs": [
        {
          "output_type": "display_data",
          "data": {
            "image/png": "[encoded data removed]",
            "text/plain": [
              "<Figure size 864x720 with 1 Axes>"
            ]
          },
          "metadata": {
            "needs_background": "light"
          }
        }
      ]
    },
    {
      "cell_type": "code",
      "metadata": {
        "colab": {
          "base_uri": "https://localhost:8080/",
          "height": 623
        },
        "id": "aEB4R3b37Dtg",
        "outputId": "596aebb1-9476-40e0-8dd3-5bf29258a53e"
      },
      "source": [
        "plt.figure(figsize=(12,10))\n",
        "\n",
        "sns.distplot(data[data['stroke'] == 0][\"bmi\"], color='green') # No Stroke - green\n",
        "sns.distplot(data[data['stroke'] == 1][\"bmi\"], color='red') # Stroke - Red\n",
        "\n",
        "plt.title('No Stroke vs Stroke by BMI', fontsize=15)\n",
        "plt.legend(['No Stroke','Stroke'])\n",
        "plt.xlim([10,100])\n",
        "plt.show()"
      ],
      "execution_count": null,
      "outputs": [
        {
          "output_type": "display_data",
          "data": {
            "image/png": "[encoded data removed]",
            "text/plain": [
              "<Figure size 864x720 with 1 Axes>"
            ]
          },
          "metadata": {
            "needs_background": "light"
          }
        }
      ]
    },
    {
      "cell_type": "code",
      "metadata": {
        "colab": {
          "base_uri": "https://localhost:8080/",
          "height": 624
        },
        "id": "peiAW0JoIzOF",
        "outputId": "7f500184-2c7e-4c95-8ed7-29677d9c4534"
      },
      "source": [
        "plt.figure(figsize=(12,10))\n",
        "\n",
        "sns.distplot(data[data['stroke'] == 0][\"avg_glucose_level\"], color='green') # No Stroke - green\n",
        "sns.distplot(data[data['stroke'] == 1][\"avg_glucose_level\"], color='red') # Stroke - Red\n",
        "\n",
        "plt.title('No Stroke vs Stroke by Avg. Glucose Level', fontsize=15)\n",
        "plt.xlim([30,330])\n",
        "# plt.suptitle('No Stroke - green, Stroke - Red ')\n",
        "plt.legend(['No Stroke','Stroke'])\n",
        "plt.show()"
      ],
      "execution_count": null,
      "outputs": [
        {
          "output_type": "display_data",
          "data": {
            "image/png": "[encoded data removed]",
            "text/plain": [
              "<Figure size 864x720 with 1 Axes>"
            ]
          },
          "metadata": {
            "needs_background": "light"
          }
        }
      ]
    },
    {
      "cell_type": "markdown",
      "metadata": {
        "id": "K5NyujoDEO6y"
      },
      "source": [
        "#Data Pre Processing\n",
        "Handle missing data. Explain the method used (Removal, replacement, etc…).\n",
        "Remove outliers. Explain the model used to infer an outlier.\n"
      ]
    },
    {
      "cell_type": "code",
      "metadata": {
        "id": "Z2quht-jieAe"
      },
      "source": [
        "data.bmi.replace(to_replace=np.nan, value=data.bmi.mean(), inplace=True)\n",
        "data=data[~(data.gender=='Other')]\n"
      ],
      "execution_count": 17,
      "outputs": []
    },
    {
      "cell_type": "code",
      "metadata": {
        "colab": {
          "base_uri": "https://localhost:8080/",
          "height": 204
        },
        "id": "wDETBno4i3sH",
        "outputId": "b60214c7-7fe3-4344-d389-63bccce05beb"
      },
      "source": [
        "data.head()"
      ],
      "execution_count": 18,
      "outputs": [
        {
          "output_type": "execute_result",
          "data": {
            "text/html": [
              "<div>\n",
              "<style scoped>\n",
              "    .dataframe tbody tr th:only-of-type {\n",
              "        vertical-align: middle;\n",
              "    }\n",
              "\n",
              "    .dataframe tbody tr th {\n",
              "        vertical-align: top;\n",
              "    }\n",
              "\n",
              "    .dataframe thead th {\n",
              "        text-align: right;\n",
              "    }\n",
              "</style>\n",
              "<table border=\"1\" class=\"dataframe\">\n",
              "  <thead>\n",
              "    <tr style=\"text-align: right;\">\n",
              "      <th></th>\n",
              "      <th>gender</th>\n",
              "      <th>age</th>\n",
              "      <th>hypertension</th>\n",
              "      <th>heart_disease</th>\n",
              "      <th>ever_married</th>\n",
              "      <th>work_type</th>\n",
              "      <th>Residence_type</th>\n",
              "      <th>avg_glucose_level</th>\n",
              "      <th>bmi</th>\n",
              "      <th>smoking_status</th>\n",
              "      <th>stroke</th>\n",
              "    </tr>\n",
              "  </thead>\n",
              "  <tbody>\n",
              "    <tr>\n",
              "      <th>0</th>\n",
              "      <td>Male</td>\n",
              "      <td>67.0</td>\n",
              "      <td>0</td>\n",
              "      <td>1</td>\n",
              "      <td>Yes</td>\n",
              "      <td>Private</td>\n",
              "      <td>Urban</td>\n",
              "      <td>228.69</td>\n",
              "      <td>36.600000</td>\n",
              "      <td>formerly smoked</td>\n",
              "      <td>1</td>\n",
              "    </tr>\n",
              "    <tr>\n",
              "      <th>1</th>\n",
              "      <td>Female</td>\n",
              "      <td>61.0</td>\n",
              "      <td>0</td>\n",
              "      <td>0</td>\n",
              "      <td>Yes</td>\n",
              "      <td>Self-employed</td>\n",
              "      <td>Rural</td>\n",
              "      <td>202.21</td>\n",
              "      <td>28.893237</td>\n",
              "      <td>never smoked</td>\n",
              "      <td>1</td>\n",
              "    </tr>\n",
              "    <tr>\n",
              "      <th>2</th>\n",
              "      <td>Male</td>\n",
              "      <td>80.0</td>\n",
              "      <td>0</td>\n",
              "      <td>1</td>\n",
              "      <td>Yes</td>\n",
              "      <td>Private</td>\n",
              "      <td>Rural</td>\n",
              "      <td>105.92</td>\n",
              "      <td>32.500000</td>\n",
              "      <td>never smoked</td>\n",
              "      <td>1</td>\n",
              "    </tr>\n",
              "    <tr>\n",
              "      <th>3</th>\n",
              "      <td>Female</td>\n",
              "      <td>49.0</td>\n",
              "      <td>0</td>\n",
              "      <td>0</td>\n",
              "      <td>Yes</td>\n",
              "      <td>Private</td>\n",
              "      <td>Urban</td>\n",
              "      <td>171.23</td>\n",
              "      <td>34.400000</td>\n",
              "      <td>smokes</td>\n",
              "      <td>1</td>\n",
              "    </tr>\n",
              "    <tr>\n",
              "      <th>4</th>\n",
              "      <td>Female</td>\n",
              "      <td>79.0</td>\n",
              "      <td>1</td>\n",
              "      <td>0</td>\n",
              "      <td>Yes</td>\n",
              "      <td>Self-employed</td>\n",
              "      <td>Rural</td>\n",
              "      <td>174.12</td>\n",
              "      <td>24.000000</td>\n",
              "      <td>never smoked</td>\n",
              "      <td>1</td>\n",
              "    </tr>\n",
              "  </tbody>\n",
              "</table>\n",
              "</div>"
            ],
            "text/plain": [
              "   gender   age  hypertension  ...        bmi   smoking_status stroke\n",
              "0    Male  67.0             0  ...  36.600000  formerly smoked      1\n",
              "1  Female  61.0             0  ...  28.893237     never smoked      1\n",
              "2    Male  80.0             0  ...  32.500000     never smoked      1\n",
              "3  Female  49.0             0  ...  34.400000           smokes      1\n",
              "4  Female  79.0             1  ...  24.000000     never smoked      1\n",
              "\n",
              "[5 rows x 11 columns]"
            ]
          },
          "metadata": {},
          "execution_count": 18
        }
      ]
    },
    {
      "cell_type": "code",
      "metadata": {
        "colab": {
          "base_uri": "https://localhost:8080/",
          "height": 337
        },
        "id": "dMbzi9hG1T73",
        "outputId": "f66ad850-72af-4df0-d810-02c750447bad"
      },
      "source": [
        "print(data.stroke.value_counts())\n",
        "sns.set_theme(style=\"darkgrid\")\n",
        "ax = sns.countplot(data=data, x=\"stroke\")\n",
        "plt.show();"
      ],
      "execution_count": null,
      "outputs": [
        {
          "output_type": "stream",
          "name": "stdout",
          "text": [
            "0    4855\n",
            "1     249\n",
            "Name: stroke, dtype: int64\n"
          ]
        },
        {
          "output_type": "display_data",
          "data": {
            "image/png": "[encoded data removed]",
            "text/plain": [
              "<Figure size 432x288 with 1 Axes>"
            ]
          },
          "metadata": {}
        }
      ]
    },
    {
      "cell_type": "markdown",
      "metadata": {
        "id": "zsK6kp5Wiq-P"
      },
      "source": [
        "##Encoding"
      ]
    },
    {
      "cell_type": "code",
      "metadata": {
        "id": "tI_iteq7tFwm"
      },
      "source": [
        "data[\"Residence_type\"] = data[\"Residence_type\"].apply(lambda x: 1 if x==\"Urban\" else 0)\n",
        "data[\"ever_married\"] = data[\"ever_married\"].apply(lambda x: 1 if x==\"Yes\" else 0)\n",
        "data[\"gender\"] = data[\"gender\"].apply(lambda x: 1 if x==\"Male\" else 0)\n",
        "\n",
        "\n",
        " \n",
        "data = pd.get_dummies(data=data, columns=['smoking_status'])\n",
        "data = pd.get_dummies(data=data, columns=['work_type'])"
      ],
      "execution_count": 19,
      "outputs": []
    },
    {
      "cell_type": "code",
      "metadata": {
        "colab": {
          "base_uri": "https://localhost:8080/",
          "height": 238
        },
        "id": "Ntil9keytWsw",
        "outputId": "200440c1-6576-4b99-a5c5-9363906dd1ce"
      },
      "source": [
        "data.head()"
      ],
      "execution_count": null,
      "outputs": [
        {
          "output_type": "execute_result",
          "data": {
            "text/html": [
              "<div>\n",
              "<style scoped>\n",
              "    .dataframe tbody tr th:only-of-type {\n",
              "        vertical-align: middle;\n",
              "    }\n",
              "\n",
              "    .dataframe tbody tr th {\n",
              "        vertical-align: top;\n",
              "    }\n",
              "\n",
              "    .dataframe thead th {\n",
              "        text-align: right;\n",
              "    }\n",
              "</style>\n",
              "<table border=\"1\" class=\"dataframe\">\n",
              "  <thead>\n",
              "    <tr style=\"text-align: right;\">\n",
              "      <th></th>\n",
              "      <th>gender</th>\n",
              "      <th>age</th>\n",
              "      <th>hypertension</th>\n",
              "      <th>heart_disease</th>\n",
              "      <th>ever_married</th>\n",
              "      <th>Residence_type</th>\n",
              "      <th>avg_glucose_level</th>\n",
              "      <th>bmi</th>\n",
              "      <th>stroke</th>\n",
              "      <th>smoking_status_Unknown</th>\n",
              "      <th>smoking_status_formerly smoked</th>\n",
              "      <th>smoking_status_never smoked</th>\n",
              "      <th>smoking_status_smokes</th>\n",
              "      <th>work_type_Govt_job</th>\n",
              "      <th>work_type_Never_worked</th>\n",
              "      <th>work_type_Private</th>\n",
              "      <th>work_type_Self-employed</th>\n",
              "      <th>work_type_children</th>\n",
              "    </tr>\n",
              "  </thead>\n",
              "  <tbody>\n",
              "    <tr>\n",
              "      <th>0</th>\n",
              "      <td>1</td>\n",
              "      <td>67.0</td>\n",
              "      <td>0</td>\n",
              "      <td>1</td>\n",
              "      <td>1</td>\n",
              "      <td>1</td>\n",
              "      <td>228.69</td>\n",
              "      <td>36.600000</td>\n",
              "      <td>1</td>\n",
              "      <td>0</td>\n",
              "      <td>1</td>\n",
              "      <td>0</td>\n",
              "      <td>0</td>\n",
              "      <td>0</td>\n",
              "      <td>0</td>\n",
              "      <td>1</td>\n",
              "      <td>0</td>\n",
              "      <td>0</td>\n",
              "    </tr>\n",
              "    <tr>\n",
              "      <th>1</th>\n",
              "      <td>0</td>\n",
              "      <td>61.0</td>\n",
              "      <td>0</td>\n",
              "      <td>0</td>\n",
              "      <td>1</td>\n",
              "      <td>0</td>\n",
              "      <td>202.21</td>\n",
              "      <td>28.893237</td>\n",
              "      <td>1</td>\n",
              "      <td>0</td>\n",
              "      <td>0</td>\n",
              "      <td>1</td>\n",
              "      <td>0</td>\n",
              "      <td>0</td>\n",
              "      <td>0</td>\n",
              "      <td>0</td>\n",
              "      <td>1</td>\n",
              "      <td>0</td>\n",
              "    </tr>\n",
              "    <tr>\n",
              "      <th>2</th>\n",
              "      <td>1</td>\n",
              "      <td>80.0</td>\n",
              "      <td>0</td>\n",
              "      <td>1</td>\n",
              "      <td>1</td>\n",
              "      <td>0</td>\n",
              "      <td>105.92</td>\n",
              "      <td>32.500000</td>\n",
              "      <td>1</td>\n",
              "      <td>0</td>\n",
              "      <td>0</td>\n",
              "      <td>1</td>\n",
              "      <td>0</td>\n",
              "      <td>0</td>\n",
              "      <td>0</td>\n",
              "      <td>1</td>\n",
              "      <td>0</td>\n",
              "      <td>0</td>\n",
              "    </tr>\n",
              "    <tr>\n",
              "      <th>3</th>\n",
              "      <td>0</td>\n",
              "      <td>49.0</td>\n",
              "      <td>0</td>\n",
              "      <td>0</td>\n",
              "      <td>1</td>\n",
              "      <td>1</td>\n",
              "      <td>171.23</td>\n",
              "      <td>34.400000</td>\n",
              "      <td>1</td>\n",
              "      <td>0</td>\n",
              "      <td>0</td>\n",
              "      <td>0</td>\n",
              "      <td>1</td>\n",
              "      <td>0</td>\n",
              "      <td>0</td>\n",
              "      <td>1</td>\n",
              "      <td>0</td>\n",
              "      <td>0</td>\n",
              "    </tr>\n",
              "    <tr>\n",
              "      <th>4</th>\n",
              "      <td>0</td>\n",
              "      <td>79.0</td>\n",
              "      <td>1</td>\n",
              "      <td>0</td>\n",
              "      <td>1</td>\n",
              "      <td>0</td>\n",
              "      <td>174.12</td>\n",
              "      <td>24.000000</td>\n",
              "      <td>1</td>\n",
              "      <td>0</td>\n",
              "      <td>0</td>\n",
              "      <td>1</td>\n",
              "      <td>0</td>\n",
              "      <td>0</td>\n",
              "      <td>0</td>\n",
              "      <td>0</td>\n",
              "      <td>1</td>\n",
              "      <td>0</td>\n",
              "    </tr>\n",
              "  </tbody>\n",
              "</table>\n",
              "</div>"
            ],
            "text/plain": [
              "   gender   age  ...  work_type_Self-employed  work_type_children\n",
              "0       1  67.0  ...                        0                   0\n",
              "1       0  61.0  ...                        1                   0\n",
              "2       1  80.0  ...                        0                   0\n",
              "3       0  49.0  ...                        0                   0\n",
              "4       0  79.0  ...                        1                   0\n",
              "\n",
              "[5 rows x 18 columns]"
            ]
          },
          "metadata": {},
          "execution_count": 39
        }
      ]
    },
    {
      "cell_type": "markdown",
      "metadata": {
        "id": "ms_3JlIliiz2"
      },
      "source": [
        "הדאתא שלנו לא מאוזן, צריך להשתמש  בשיטה מתאימה\n",
        "class_weight in logistic regression\n",
        "stratify=(in the split to train and test)\n"
      ]
    },
    {
      "cell_type": "code",
      "metadata": {
        "id": "2LwcehAIVXqs"
      },
      "source": [
        "# sns.pairplot(data=BU, hue='stroke')"
      ],
      "execution_count": null,
      "outputs": []
    },
    {
      "cell_type": "code",
      "metadata": {
        "id": "0zxYPzcb4at6"
      },
      "source": [
        "# ax=data[data.stroke !=1].plot.scatter(x='gender', y='bmi', c=\"k\", s=0.5,alpha=0.5,figsize=(20,10)) #ax זה הצירים\n",
        "# data[data.stroke ==1].plot.scatter(x='gender', y='bmi', c=\"r\", s=5,alpha=0.5, ax=ax) #ax argument allowed us to compare the axix of two charts #את הצבע נשים באדם\n",
        "# ax.set_aspect(0.01)"
      ],
      "execution_count": null,
      "outputs": []
    },
    {
      "cell_type": "code",
      "metadata": {
        "id": "2PhyiQZPhQoO"
      },
      "source": [
        "# labale & feature seperation\n",
        "X = data.drop(columns='stroke')     \n",
        "y= data['stroke']\n",
        "\n",
        "#split train Test\n",
        "X_train, X_test, y_train, y_test = train_test_split(X, y, test_size=0.3, stratify=data.stroke, random_state=1234)\n"
      ],
      "execution_count": 20,
      "outputs": []
    },
    {
      "cell_type": "markdown",
      "metadata": {
        "id": "x8JXVJumKWlv"
      },
      "source": [
        "האם כדאי לבצע נורמליזציה?"
      ]
    },
    {
      "cell_type": "code",
      "metadata": {
        "id": "CAYA1wDgKee_"
      },
      "source": [
        "# from sklearn.preprocessing import StandardScaler \n",
        "# sc = StandardScaler()\n",
        "# X_train = sc.fit_transform(X_train)\n",
        "# X_test = sc.transform(X_test)"
      ],
      "execution_count": null,
      "outputs": []
    },
    {
      "cell_type": "markdown",
      "metadata": {
        "id": "hPnDAWR1LYjr"
      },
      "source": [
        "לדעתי רצוי לעשות אובר-סמפלינג"
      ]
    },
    {
      "cell_type": "code",
      "metadata": {
        "colab": {
          "base_uri": "https://localhost:8080/"
        },
        "id": "dXxzQXwALfWo",
        "outputId": "06a22358-9de2-4f8d-c385-7a267e683c77"
      },
      "source": [
        "# from imblearn.over_sampling import SMOTE\n",
        "\n",
        "\n",
        "# print(\"Before OverSampling, counts of label '1': {}\".format(sum(y_train==1)))\n",
        "# print(\"Before OverSampling, counts of label '0': {} \\n\".format(sum(y_train==0)))\n",
        "\n",
        "# sm = SMOTE(random_state=2)\n",
        "# X_train_res, y_train_res = sm.fit_resample(X_train, y_train.ravel())\n",
        "\n",
        "# print('After OverSampling, the shape of train_X: {}'.format(X_train_res.shape))\n",
        "# print('After OverSampling, the shape of train_y: {} \\n'.format(y_train_res.shape))\n",
        "\n",
        "# print(\"After OverSampling, counts of label '1': {}\".format(sum(y_train_res==1)))\n",
        "# print(\"After OverSampling, counts of label '0': {}\".format(sum(y_train_res==0)))"
      ],
      "execution_count": null,
      "outputs": [
        {
          "output_type": "stream",
          "name": "stdout",
          "text": [
            "Before OverSampling, counts of label '1': 174\n",
            "Before OverSampling, counts of label '0': 3398 \n",
            "\n",
            "After OverSampling, the shape of train_X: (6796, 17)\n",
            "After OverSampling, the shape of train_y: (6796,) \n",
            "\n",
            "After OverSampling, counts of label '1': 3398\n",
            "After OverSampling, counts of label '0': 3398\n"
          ]
        }
      ]
    },
    {
      "cell_type": "markdown",
      "metadata": {
        "id": "T2rkR9U7FfYa"
      },
      "source": [
        "#Feature Engineering\n",
        "If data requires, build new features from existing features. Analyze their contribution.\n",
        "Do estimation about feature importance. Choose the features relevant to the task.\n"
      ]
    },
    {
      "cell_type": "markdown",
      "metadata": {
        "id": "7LF53q068fNY"
      },
      "source": [
        "הורדנו את ה ID"
      ]
    },
    {
      "cell_type": "markdown",
      "metadata": {
        "id": "k1Ki48vjFry_"
      },
      "source": [
        "#Models\n",
        "Choose the methods which are applicable to your problem. Explain your choices.\n",
        "Build the testing environment. Explain the choices made (About the size of the test set, which type of cross validation, Grid search, etc…).\n",
        "Apply the chosen method. Compare the scoring. Try different scoring and explain results. Use cross validation to search for optimal hyper parameters.\n",
        "Try a method you excluded on (a). Compare it to the results. Was it a good decision to exclude it?\n",
        "Go back to step (2) and use the insight gained.\n"
      ]
    },
    {
      "cell_type": "code",
      "metadata": {
        "id": "-iMhSTSdLp0-"
      },
      "source": [
        "# Model Selection\n",
        "\n",
        "\n",
        "from sklearn.linear_model import LogisticRegression\n",
        "from sklearn.svm import SVC\n",
        "from sklearn.ensemble import RandomForestClassifier\n",
        "\n",
        "\n",
        "from sklearn.metrics import accuracy_score, confusion_matrix, roc_auc_score, ConfusionMatrixDisplay, precision_score, recall_score, f1_score, classification_report, roc_curve, plot_roc_curve, auc, precision_recall_curve, plot_precision_recall_curve, average_precision_score\n",
        "from sklearn.model_selection import cross_val_score"
      ],
      "execution_count": null,
      "outputs": []
    },
    {
      "cell_type": "code",
      "metadata": {
        "colab": {
          "base_uri": "https://localhost:8080/"
        },
        "id": "tlkT24qoL2Wt",
        "outputId": "6f261c51-3e4a-46be-f3b8-3e55e4f3aef6"
      },
      "source": [
        "models = []\n",
        "models.append(['Logistic Regreesion', LogisticRegression(random_state=0)])\n",
        "models.append(['SVM', SVC(random_state=0)])\n",
        "models.append(['Random Forest', RandomForestClassifier(random_state=0)])\n",
        "\n",
        "\n",
        "lst_1= []\n",
        "\n",
        "for m in range(len(models)):\n",
        "    lst_2= []\n",
        "    model = models[m][1]\n",
        "    model.fit(X_train_res, y_train_res)\n",
        "    y_pred = model.predict(X_test)\n",
        "    cm = confusion_matrix(y_test, y_pred)  #Confusion Matrix\n",
        "    accuracies = cross_val_score(estimator = model, X = X_train_res, y = y_train_res, cv = 10)   #K-Fold Validation\n",
        "    roc = roc_auc_score(y_test, y_pred)  #ROC AUC Score\n",
        "    precision = precision_score(y_test, y_pred)  #Precision Score\n",
        "    recall = recall_score(y_test, y_pred)  #Recall Score\n",
        "    f1 = f1_score(y_test, y_pred)  #F1 Score\n",
        "    print(models[m][0],':')\n",
        "    print(cm)\n",
        "    print('Accuracy Score: ',accuracy_score(y_test, y_pred))\n",
        "    print('')\n",
        "    print(\"K-Fold Validation Mean Accuracy: {:.2f} %\".format(accuracies.mean()*100))\n",
        "    print('')\n",
        "    print(\"Standard Deviation: {:.2f} %\".format(accuracies.std()*100))\n",
        "    print('')\n",
        "    print('ROC AUC Score: {:.2f}'.format(roc))\n",
        "    print('')\n",
        "    print('Precision: {:.2f}'.format(precision))\n",
        "    print('')\n",
        "    print('Recall: {:.2f}'.format(recall))\n",
        "    print('')\n",
        "    print('F1: {:.2f}'.format(f1))\n",
        "    print('-----------------------------------')\n",
        "    print('')\n",
        "    lst_2.append(models[m][0])\n",
        "    lst_2.append((accuracy_score(y_test, y_pred))*100) \n",
        "    lst_2.append(accuracies.mean()*100)\n",
        "    lst_2.append(accuracies.std()*100)\n",
        "    lst_2.append(roc)\n",
        "    lst_2.append(precision)\n",
        "    lst_2.append(recall)\n",
        "    lst_2.append(f1)\n",
        "    lst_1.append(lst_2)"
      ],
      "execution_count": null,
      "outputs": [
        {
          "output_type": "stream",
          "name": "stdout",
          "text": [
            "Logistic Regreesion :\n",
            "[[1080  377]\n",
            " [  17   58]]\n",
            "Accuracy Score:  0.7428198433420365\n",
            "\n",
            "K-Fold Validation Mean Accuracy: 78.61 %\n",
            "\n",
            "Standard Deviation: 1.05 %\n",
            "\n",
            "ROC AUC Score: 0.76\n",
            "\n",
            "Precision: 0.13\n",
            "\n",
            "Recall: 0.77\n",
            "\n",
            "F1: 0.23\n",
            "-----------------------------------\n",
            "\n",
            "SVM :\n",
            "[[1197  260]\n",
            " [  39   36]]\n",
            "Accuracy Score:  0.8048302872062664\n",
            "\n",
            "K-Fold Validation Mean Accuracy: 89.38 %\n",
            "\n",
            "Standard Deviation: 1.35 %\n",
            "\n",
            "ROC AUC Score: 0.65\n",
            "\n",
            "Precision: 0.12\n",
            "\n",
            "Recall: 0.48\n",
            "\n",
            "F1: 0.19\n",
            "-----------------------------------\n",
            "\n",
            "Random Forest :\n",
            "[[1392   65]\n",
            " [  66    9]]\n",
            "Accuracy Score:  0.914490861618799\n",
            "\n",
            "K-Fold Validation Mean Accuracy: 95.90 %\n",
            "\n",
            "Standard Deviation: 2.43 %\n",
            "\n",
            "ROC AUC Score: 0.54\n",
            "\n",
            "Precision: 0.12\n",
            "\n",
            "Recall: 0.12\n",
            "\n",
            "F1: 0.12\n",
            "-----------------------------------\n",
            "\n"
          ]
        }
      ]
    },
    {
      "cell_type": "code",
      "metadata": {
        "colab": {
          "base_uri": "https://localhost:8080/",
          "height": 141
        },
        "id": "y5P0r97wNqiH",
        "outputId": "03c247d7-306c-4aba-a7f8-b310714c368b"
      },
      "source": [
        "df = pd.DataFrame(lst_1, columns= ['Model', 'Accuracy', 'K-Fold Mean Accuracy', 'Std. Deviation', 'ROC AUC', 'Precision', 'Recall', 'F1'])\n",
        "df.sort_values(by= ['Accuracy', 'K-Fold Mean Accuracy'], inplace= True, ascending= False)\n",
        "df"
      ],
      "execution_count": null,
      "outputs": [
        {
          "output_type": "execute_result",
          "data": {
            "text/html": [
              "<div>\n",
              "<style scoped>\n",
              "    .dataframe tbody tr th:only-of-type {\n",
              "        vertical-align: middle;\n",
              "    }\n",
              "\n",
              "    .dataframe tbody tr th {\n",
              "        vertical-align: top;\n",
              "    }\n",
              "\n",
              "    .dataframe thead th {\n",
              "        text-align: right;\n",
              "    }\n",
              "</style>\n",
              "<table border=\"1\" class=\"dataframe\">\n",
              "  <thead>\n",
              "    <tr style=\"text-align: right;\">\n",
              "      <th></th>\n",
              "      <th>Model</th>\n",
              "      <th>Accuracy</th>\n",
              "      <th>K-Fold Mean Accuracy</th>\n",
              "      <th>Std. Deviation</th>\n",
              "      <th>ROC AUC</th>\n",
              "      <th>Precision</th>\n",
              "      <th>Recall</th>\n",
              "      <th>F1</th>\n",
              "    </tr>\n",
              "  </thead>\n",
              "  <tbody>\n",
              "    <tr>\n",
              "      <th>2</th>\n",
              "      <td>Random Forest</td>\n",
              "      <td>91.449086</td>\n",
              "      <td>95.895045</td>\n",
              "      <td>2.432614</td>\n",
              "      <td>0.537694</td>\n",
              "      <td>0.121622</td>\n",
              "      <td>0.120000</td>\n",
              "      <td>0.120805</td>\n",
              "    </tr>\n",
              "    <tr>\n",
              "      <th>1</th>\n",
              "      <td>SVM</td>\n",
              "      <td>80.483029</td>\n",
              "      <td>89.376354</td>\n",
              "      <td>1.352375</td>\n",
              "      <td>0.650776</td>\n",
              "      <td>0.121622</td>\n",
              "      <td>0.480000</td>\n",
              "      <td>0.194070</td>\n",
              "    </tr>\n",
              "    <tr>\n",
              "      <th>0</th>\n",
              "      <td>Logistic Regreesion</td>\n",
              "      <td>74.281984</td>\n",
              "      <td>78.605150</td>\n",
              "      <td>1.049458</td>\n",
              "      <td>0.757291</td>\n",
              "      <td>0.133333</td>\n",
              "      <td>0.773333</td>\n",
              "      <td>0.227451</td>\n",
              "    </tr>\n",
              "  </tbody>\n",
              "</table>\n",
              "</div>"
            ],
            "text/plain": [
              "                 Model   Accuracy  ...    Recall        F1\n",
              "2        Random Forest  91.449086  ...  0.120000  0.120805\n",
              "1                  SVM  80.483029  ...  0.480000  0.194070\n",
              "0  Logistic Regreesion  74.281984  ...  0.773333  0.227451\n",
              "\n",
              "[3 rows x 8 columns]"
            ]
          },
          "metadata": {},
          "execution_count": 49
        }
      ]
    },
    {
      "cell_type": "markdown",
      "metadata": {
        "id": "T9ls2vryAFRZ"
      },
      "source": [
        "##Logistic Regression"
      ]
    },
    {
      "cell_type": "markdown",
      "metadata": {
        "id": "cIqAj3IOYIaD"
      },
      "source": [
        "###Feature selection"
      ]
    },
    {
      "cell_type": "markdown",
      "metadata": {
        "id": "kgx-9qhPYSEM"
      },
      "source": [
        "נסיון להבין אם זה יעזור במקרה שעשינו דאמיז ויש לנו הרבה עמודות ולכן מקבלים ERROR"
      ]
    },
    {
      "cell_type": "code",
      "metadata": {
        "colab": {
          "base_uri": "https://localhost:8080/",
          "height": 275
        },
        "id": "qNj-ZZcPZbzi",
        "outputId": "27874920-0eb4-494d-b31f-cf691c0783f0"
      },
      "source": [
        "#<! Royi: This is a way to have a summary of all methods\n",
        "from sklearn.feature_selection import SelectKBest, chi2, f_classif, mutual_info_classif\n",
        "\n",
        "numFeatures   = 5\n",
        "vMethods      = [chi2, f_classif, mutual_info_classif,f_classif]\n",
        "vMethodsSring = ['Chi 2', 'ANOVA F Value', 'Mutual Informatiom','f_classif']\n",
        "\n",
        "mMutualSelection = np.zeros((len(vMethods), X_train.shape[1]), dtype=bool)\n",
        "\n",
        "for ii, iMethod in enumerate(vMethods):\n",
        "  mMutualSelection[ii, :] = SelectKBest(score_func = iMethod, k = numFeatures).fit(X_train, y_train).get_support()\n",
        "\n",
        "dfMutualSelection = pd.DataFrame(data = mMutualSelection, index = vMethodsSring, columns = X_train.columns, copy = True)\n",
        "dfMutualSelection.index.name = 'Method'\n",
        "\n",
        "dfMutualSelection"
      ],
      "execution_count": null,
      "outputs": [
        {
          "output_type": "execute_result",
          "data": {
            "text/html": [
              "<div>\n",
              "<style scoped>\n",
              "    .dataframe tbody tr th:only-of-type {\n",
              "        vertical-align: middle;\n",
              "    }\n",
              "\n",
              "    .dataframe tbody tr th {\n",
              "        vertical-align: top;\n",
              "    }\n",
              "\n",
              "    .dataframe thead th {\n",
              "        text-align: right;\n",
              "    }\n",
              "</style>\n",
              "<table border=\"1\" class=\"dataframe\">\n",
              "  <thead>\n",
              "    <tr style=\"text-align: right;\">\n",
              "      <th></th>\n",
              "      <th>gender</th>\n",
              "      <th>age</th>\n",
              "      <th>hypertension</th>\n",
              "      <th>heart_disease</th>\n",
              "      <th>ever_married</th>\n",
              "      <th>Residence_type</th>\n",
              "      <th>avg_glucose_level</th>\n",
              "      <th>bmi</th>\n",
              "      <th>smoking_status_Unknown</th>\n",
              "      <th>smoking_status_formerly smoked</th>\n",
              "      <th>smoking_status_never smoked</th>\n",
              "      <th>smoking_status_smokes</th>\n",
              "      <th>work_type_Govt_job</th>\n",
              "      <th>work_type_Never_worked</th>\n",
              "      <th>work_type_Private</th>\n",
              "      <th>work_type_Self-employed</th>\n",
              "      <th>work_type_children</th>\n",
              "    </tr>\n",
              "    <tr>\n",
              "      <th>Method</th>\n",
              "      <th></th>\n",
              "      <th></th>\n",
              "      <th></th>\n",
              "      <th></th>\n",
              "      <th></th>\n",
              "      <th></th>\n",
              "      <th></th>\n",
              "      <th></th>\n",
              "      <th></th>\n",
              "      <th></th>\n",
              "      <th></th>\n",
              "      <th></th>\n",
              "      <th></th>\n",
              "      <th></th>\n",
              "      <th></th>\n",
              "      <th></th>\n",
              "      <th></th>\n",
              "    </tr>\n",
              "  </thead>\n",
              "  <tbody>\n",
              "    <tr>\n",
              "      <th>Chi 2</th>\n",
              "      <td>False</td>\n",
              "      <td>True</td>\n",
              "      <td>True</td>\n",
              "      <td>True</td>\n",
              "      <td>False</td>\n",
              "      <td>False</td>\n",
              "      <td>True</td>\n",
              "      <td>False</td>\n",
              "      <td>False</td>\n",
              "      <td>True</td>\n",
              "      <td>False</td>\n",
              "      <td>False</td>\n",
              "      <td>False</td>\n",
              "      <td>False</td>\n",
              "      <td>False</td>\n",
              "      <td>False</td>\n",
              "      <td>False</td>\n",
              "    </tr>\n",
              "    <tr>\n",
              "      <th>ANOVA F Value</th>\n",
              "      <td>False</td>\n",
              "      <td>True</td>\n",
              "      <td>True</td>\n",
              "      <td>True</td>\n",
              "      <td>True</td>\n",
              "      <td>False</td>\n",
              "      <td>True</td>\n",
              "      <td>False</td>\n",
              "      <td>False</td>\n",
              "      <td>False</td>\n",
              "      <td>False</td>\n",
              "      <td>False</td>\n",
              "      <td>False</td>\n",
              "      <td>False</td>\n",
              "      <td>False</td>\n",
              "      <td>False</td>\n",
              "      <td>False</td>\n",
              "    </tr>\n",
              "    <tr>\n",
              "      <th>Mutual Informatiom</th>\n",
              "      <td>False</td>\n",
              "      <td>True</td>\n",
              "      <td>False</td>\n",
              "      <td>False</td>\n",
              "      <td>True</td>\n",
              "      <td>False</td>\n",
              "      <td>True</td>\n",
              "      <td>True</td>\n",
              "      <td>False</td>\n",
              "      <td>False</td>\n",
              "      <td>True</td>\n",
              "      <td>False</td>\n",
              "      <td>False</td>\n",
              "      <td>False</td>\n",
              "      <td>False</td>\n",
              "      <td>False</td>\n",
              "      <td>False</td>\n",
              "    </tr>\n",
              "    <tr>\n",
              "      <th>f_classif</th>\n",
              "      <td>False</td>\n",
              "      <td>True</td>\n",
              "      <td>True</td>\n",
              "      <td>True</td>\n",
              "      <td>True</td>\n",
              "      <td>False</td>\n",
              "      <td>True</td>\n",
              "      <td>False</td>\n",
              "      <td>False</td>\n",
              "      <td>False</td>\n",
              "      <td>False</td>\n",
              "      <td>False</td>\n",
              "      <td>False</td>\n",
              "      <td>False</td>\n",
              "      <td>False</td>\n",
              "      <td>False</td>\n",
              "      <td>False</td>\n",
              "    </tr>\n",
              "  </tbody>\n",
              "</table>\n",
              "</div>"
            ],
            "text/plain": [
              "                    gender   age  ...  work_type_Self-employed  work_type_children\n",
              "Method                            ...                                             \n",
              "Chi 2                False  True  ...                    False               False\n",
              "ANOVA F Value        False  True  ...                    False               False\n",
              "Mutual Informatiom   False  True  ...                    False               False\n",
              "f_classif            False  True  ...                    False               False\n",
              "\n",
              "[4 rows x 17 columns]"
            ]
          },
          "metadata": {},
          "execution_count": 97
        }
      ]
    },
    {
      "cell_type": "code",
      "metadata": {
        "id": "p3IXqtWOWaF-"
      },
      "source": [
        "# שימוש בפיצ'רים החשובים ביותר לפי השיטות חישוב השונות\n",
        "X_train= X_train[['age','hypertension','heart_disease','avg_glucose_level']]\n",
        "X_test= X_test[['age','hypertension','heart_disease','avg_glucose_level']]"
      ],
      "execution_count": null,
      "outputs": []
    },
    {
      "cell_type": "code",
      "metadata": {
        "colab": {
          "base_uri": "https://localhost:8080/"
        },
        "id": "Yd7DMC5GF2fr",
        "outputId": "184fbca5-2be5-475f-af20-3f15c17b1daf"
      },
      "source": [
        "from sklearn.linear_model import LogisticRegression\n",
        "from sklearn.metrics import accuracy_score, classification_report, confusion_matrix\n",
        "\n",
        "\n",
        "data_LR = LogisticRegression()\n",
        "F=data_LR.fit(X_train, y_train)\n",
        "\n",
        "\n",
        "score = data_LR.score(X_test, y_test)\n",
        "print('Testing Score \\n',score)\n",
        "logistic_score = data_LR.score(X_train, y_train)\n",
        "logistic_test = data_LR.score(X_test, y_test)\n",
        "#== \n",
        "y_pred= data_LR.predict(X_test) #########predict proba\n",
        "print(classification_report(y_test, y_pred))"
      ],
      "execution_count": null,
      "outputs": [
        {
          "output_type": "stream",
          "name": "stdout",
          "text": [
            "Testing Score \n",
            " 0.9510763209393346\n",
            "              precision    recall  f1-score   support\n",
            "\n",
            "           0       0.95      1.00      0.97      1458\n",
            "           1       0.00      0.00      0.00        75\n",
            "\n",
            "    accuracy                           0.95      1533\n",
            "   macro avg       0.48      0.50      0.49      1533\n",
            "weighted avg       0.90      0.95      0.93      1533\n",
            "\n"
          ]
        },
        {
          "output_type": "stream",
          "name": "stderr",
          "text": [
            "/usr/local/lib/python3.7/dist-packages/sklearn/metrics/_classification.py:1272: UndefinedMetricWarning: Precision and F-score are ill-defined and being set to 0.0 in labels with no predicted samples. Use `zero_division` parameter to control this behavior.\n",
            "  _warn_prf(average, modifier, msg_start, len(result))\n"
          ]
        }
      ]
    },
    {
      "cell_type": "markdown",
      "metadata": {
        "id": "rx0j1Sz6TUsK"
      },
      "source": [
        "https://stats.stackexchange.com/questions/384833/adjusting-probability-threshold-for-sklearns-logistic-regression-model"
      ]
    },
    {
      "cell_type": "code",
      "metadata": {
        "colab": {
          "base_uri": "https://localhost:8080/"
        },
        "id": "LvTFUci2QhSS",
        "outputId": "c876ea2e-d8a7-40d3-ca1d-a6a099bbcb37"
      },
      "source": [
        "treshold=0.5\n",
        "data_LR.predict_proba(X_test)[:,1]>treshold"
      ],
      "execution_count": null,
      "outputs": [
        {
          "output_type": "execute_result",
          "data": {
            "text/plain": [
              "array([False, False, False, ..., False, False, False])"
            ]
          },
          "metadata": {},
          "execution_count": 67
        }
      ]
    },
    {
      "cell_type": "code",
      "metadata": {
        "colab": {
          "base_uri": "https://localhost:8080/",
          "height": 111
        },
        "id": "-Bx5wX81NUI6",
        "outputId": "b8607dd6-c562-48c4-a4c9-8f5657d016c1"
      },
      "source": [
        "#Asess the Model\n",
        "from sklearn.metrics import accuracy_score, classification_report, confusion_matrix\n",
        "cm = confusion_matrix(y_true=y_test, y_pred=data_LR.predict_proba(X_test)[:,1]>treshold)\n",
        "pd.DataFrame(cm, index=data_LR.classes_, columns=data_LR.classes_)"
      ],
      "execution_count": null,
      "outputs": [
        {
          "output_type": "execute_result",
          "data": {
            "text/html": [
              "<div>\n",
              "<style scoped>\n",
              "    .dataframe tbody tr th:only-of-type {\n",
              "        vertical-align: middle;\n",
              "    }\n",
              "\n",
              "    .dataframe tbody tr th {\n",
              "        vertical-align: top;\n",
              "    }\n",
              "\n",
              "    .dataframe thead th {\n",
              "        text-align: right;\n",
              "    }\n",
              "</style>\n",
              "<table border=\"1\" class=\"dataframe\">\n",
              "  <thead>\n",
              "    <tr style=\"text-align: right;\">\n",
              "      <th></th>\n",
              "      <th>0</th>\n",
              "      <th>1</th>\n",
              "    </tr>\n",
              "  </thead>\n",
              "  <tbody>\n",
              "    <tr>\n",
              "      <th>0</th>\n",
              "      <td>1187</td>\n",
              "      <td>271</td>\n",
              "    </tr>\n",
              "    <tr>\n",
              "      <th>1</th>\n",
              "      <td>26</td>\n",
              "      <td>49</td>\n",
              "    </tr>\n",
              "  </tbody>\n",
              "</table>\n",
              "</div>"
            ],
            "text/plain": [
              "      0    1\n",
              "0  1187  271\n",
              "1    26   49"
            ]
          },
          "metadata": {},
          "execution_count": 66
        }
      ]
    },
    {
      "cell_type": "code",
      "metadata": {
        "colab": {
          "base_uri": "https://localhost:8080/"
        },
        "id": "jNoL7oq2Sjuz",
        "outputId": "bb993554-2876-47cc-fc9e-afd746c84b0b"
      },
      "source": [
        "# הפרמטרים שהמודל השתמש, שנדע בשביל גריד...\n",
        "data_LR.get_params()"
      ],
      "execution_count": null,
      "outputs": [
        {
          "output_type": "execute_result",
          "data": {
            "text/plain": [
              "{'C': 1.0,\n",
              " 'class_weight': None,\n",
              " 'dual': False,\n",
              " 'fit_intercept': True,\n",
              " 'intercept_scaling': 1,\n",
              " 'l1_ratio': None,\n",
              " 'max_iter': 100,\n",
              " 'multi_class': 'auto',\n",
              " 'n_jobs': None,\n",
              " 'penalty': 'l2',\n",
              " 'random_state': None,\n",
              " 'solver': 'lbfgs',\n",
              " 'tol': 0.0001,\n",
              " 'verbose': 0,\n",
              " 'warm_start': False}"
            ]
          },
          "metadata": {},
          "execution_count": 135
        }
      ]
    },
    {
      "cell_type": "markdown",
      "metadata": {
        "id": "6XDNa-Y1VL7B"
      },
      "source": [
        "RandomizedSearchCV - הרצה רנדומלית של ערכים כשעושים גריד\n",
        "GridSearchCV()- "
      ]
    },
    {
      "cell_type": "markdown",
      "metadata": {
        "id": "srLOyG_lPOaO"
      },
      "source": [
        "Cros Validation"
      ]
    },
    {
      "cell_type": "markdown",
      "metadata": {
        "id": "oaAabQ5GOlC9"
      },
      "source": [
        "**דרך נוספת**\n",
        "\n",
        "StratifiedShuffleSplit"
      ]
    },
    {
      "cell_type": "code",
      "metadata": {
        "id": "2Q6bTGX6PSFU"
      },
      "source": [
        "from sklearn.model_selection import StratifiedShuffleSplit  # מגריל כמה פעמים חלוקה לטריין וטסט בגודל 75 אחוז\n",
        "my_cv = StratifiedShuffleSplit(n_splits = 5, train_size = 0.75, random_state = 1234) #<! See https://scikit-learn.org/stable/modules/classes.html#splitter-classes\n"
      ],
      "execution_count": null,
      "outputs": []
    },
    {
      "cell_type": "code",
      "metadata": {
        "colab": {
          "base_uri": "https://localhost:8080/"
        },
        "id": "Knx3rJ1uPWyh",
        "outputId": "a4354ea5-e5c6-4d18-ed3b-ed3cede6cec1"
      },
      "source": [
        "from sklearn.model_selection import cross_val_score\n",
        "-cross_val_score(F, X_train, y_train, cv=my_cv, scoring='neg_log_loss') #<! Make sure there at least n_splits of each lable by y_train.val_counts()\n"
      ],
      "execution_count": null,
      "outputs": [
        {
          "output_type": "execute_result",
          "data": {
            "text/plain": [
              "array([0.15923744, 0.15371908, 0.17366238, 0.15621172, 0.15606707])"
            ]
          },
          "metadata": {},
          "execution_count": 128
        }
      ]
    },
    {
      "cell_type": "markdown",
      "metadata": {
        "id": "HFqMv2JFRh8I"
      },
      "source": [
        "Grid Search & Cross Validation"
      ]
    },
    {
      "cell_type": "code",
      "metadata": {
        "id": "Ogre-sF1Oryx"
      },
      "source": [
        "my_param_grid = {'C': [1e-5, 5e-5, 1e-4, 5e-4, 1e-3, 5e-3], 'penalty': ['l1', 'l2', 'elasticnet']}\n",
        "#<! my_cv -> n_splits = 5\n",
        "lr_model = GridSearchCV(estimator=LogisticRegression(max_iter=10), param_grid=my_param_grid, scoring='neg_log_loss', cv=my_cv)"
      ],
      "execution_count": null,
      "outputs": []
    },
    {
      "cell_type": "code",
      "metadata": {
        "colab": {
          "base_uri": "https://localhost:8080/"
        },
        "id": "1nSo20LqPDqM",
        "outputId": "e09896a2-51a8-4d69-c65d-5fe2bc0edae6"
      },
      "source": [
        "from time import time\n",
        "t1 = time()\n",
        "lr_model.fit(X_train, y_train)\n",
        "t2 = time()\n",
        "print(f\"It took {t2-t1:.2f} seconds\")"
      ],
      "execution_count": null,
      "outputs": [
        {
          "output_type": "stream",
          "name": "stdout",
          "text": [
            "It took 0.69 seconds\n"
          ]
        }
      ]
    },
    {
      "cell_type": "code",
      "metadata": {
        "colab": {
          "base_uri": "https://localhost:8080/"
        },
        "id": "G4dP3u1kRufN",
        "outputId": "b05c1864-3328-4dc2-dab9-b31af16d2066"
      },
      "source": [
        "-lr_model.best_score_"
      ],
      "execution_count": null,
      "outputs": [
        {
          "output_type": "execute_result",
          "data": {
            "text/plain": [
              "0.25849503176770633"
            ]
          },
          "metadata": {},
          "execution_count": 131
        }
      ]
    },
    {
      "cell_type": "code",
      "metadata": {
        "colab": {
          "base_uri": "https://localhost:8080/"
        },
        "id": "XV9Tz4EZUgb3",
        "outputId": "7a20bbe3-0d81-4bda-f9cc-f710e276cbf5"
      },
      "source": [
        "from sklearn.metrics import log_loss\n",
        "log_loss(y_test, lr_model.predict_proba(X_test)) #<! Pay attention, for log loss we use predict probability and not predict"
      ],
      "execution_count": null,
      "outputs": [
        {
          "output_type": "execute_result",
          "data": {
            "text/plain": [
              "0.25911280689699645"
            ]
          },
          "metadata": {},
          "execution_count": 132
        }
      ]
    },
    {
      "cell_type": "code",
      "metadata": {
        "colab": {
          "base_uri": "https://localhost:8080/"
        },
        "id": "Ztq_rNQkUsOV",
        "outputId": "5d6c71ec-0c8d-43d9-9b56-50253ea4ea28"
      },
      "source": [
        "lr_model.best_params_\n"
      ],
      "execution_count": null,
      "outputs": [
        {
          "output_type": "execute_result",
          "data": {
            "text/plain": [
              "{'C': 5e-05, 'penalty': 'l2'}"
            ]
          },
          "metadata": {},
          "execution_count": 133
        }
      ]
    },
    {
      "cell_type": "markdown",
      "metadata": {
        "id": "9prMK7AwWG5r"
      },
      "source": [
        "אחרי שמצאנו את הערכים של הפרמטרים הכי טובים אפשר לעשות גריד על ערכים באיזור אלה שקיבלנו"
      ]
    },
    {
      "cell_type": "markdown",
      "metadata": {
        "id": "aE7D4svOALdF"
      },
      "source": [
        "##SVM"
      ]
    },
    {
      "cell_type": "markdown",
      "metadata": {
        "id": "vcqHatBho0gF"
      },
      "source": [
        "### SVM - Basic Classifier"
      ]
    },
    {
      "cell_type": "code",
      "metadata": {
        "id": "H2c35vhEY7_M",
        "colab": {
          "base_uri": "https://localhost:8080/"
        },
        "outputId": "e4ab3954-1aef-4952-cd4f-9a161a1fa32e"
      },
      "source": [
        "# Simple SVC classifier only:\n",
        "\n",
        "# Defining the SVC classifier:\n",
        "clf_svc = SVC(random_state=0)\n",
        "clf_svc.fit(X_train, y_train)\n",
        "\n",
        "#Score  \n",
        "svc_score = clf_svc.score(X_train, y_train)\n",
        "svc_test = clf_svc.score(X_test, y_test)\n",
        "\n",
        "#testing model  \n",
        "y_pred = clf_svc.predict(X_test)\n",
        "\n",
        "#evaluation\n",
        "svc_cm = confusion_matrix(y_test,y_pred)\n",
        "print('Training Score',svc_score)\n",
        "print('Testing Score \\n',svc_test)\n",
        "print(svc_cm)"
      ],
      "execution_count": 21,
      "outputs": [
        {
          "output_type": "stream",
          "name": "stdout",
          "text": [
            "Training Score 0.9512877939529675\n",
            "Testing Score \n",
            " 0.9510443864229765\n",
            "[[1457    0]\n",
            " [  75    0]]\n"
          ]
        }
      ]
    },
    {
      "cell_type": "markdown",
      "metadata": {
        "id": "q0tXYw0NolUP"
      },
      "source": [
        "### SVM - Cross Validation"
      ]
    },
    {
      "cell_type": "code",
      "metadata": {
        "colab": {
          "base_uri": "https://localhost:8080/"
        },
        "id": "x9d7rFUUnXMw",
        "outputId": "7d82cb74-7c16-497a-8c81-52227fb82686"
      },
      "source": [
        "# Using cross validation with the SVC \n",
        "from sklearn.model_selection import cross_val_score,StratifiedShuffleSplit\n",
        "\n",
        "k=7\n",
        "custom_iter = StratifiedShuffleSplit(n_splits=k, train_size=0.75, test_size=0.25)\n",
        "scores = cross_val_score(clf_svc, X_train, y_train, cv=custom_iter)\n",
        "\n",
        "print(\"Scores : \" + (k * \"{:.3f} \").format(*scores))"
      ],
      "execution_count": 22,
      "outputs": [
        {
          "output_type": "stream",
          "name": "stdout",
          "text": [
            "Scores : 0.952 0.951 0.951 0.951 0.951 0.951 0.951 \n"
          ]
        }
      ]
    },
    {
      "cell_type": "markdown",
      "metadata": {
        "id": "_1hC9qiXou0a"
      },
      "source": [
        "### SVM - GridSearch"
      ]
    },
    {
      "cell_type": "code",
      "metadata": {
        "colab": {
          "base_uri": "https://localhost:8080/"
        },
        "id": "2nWLHllnni5s",
        "outputId": "30ada909-8f98-4695-f43a-afed58bd7e74"
      },
      "source": [
        "#Using grid search with SVC\n",
        "%%time\n",
        "param_grid = [\n",
        "  {'C': [1, 10, 100], 'kernel': ['linear']},\n",
        "  {'C': [1, 10, 100, 1000], 'gamma': [0.001, 0.0001], 'kernel': ['rbf']}\n",
        "  ]\n",
        "\n",
        "clf_svc_gs = GridSearchCV(SVC(), param_grid, cv=2)\n",
        "clf_svc_gs.fit(X_train, y_train)\n",
        "\n",
        "#presenting the results\n",
        "print(\"Best parameters set found on development set:\\n\")\n",
        "print(clf_svc_gs.best_params_,'\\n')\n",
        "print(\"Grid scores on development set:\\n\")\n",
        "means = clf_svc_gs.cv_results_['mean_test_score']\n",
        "stds = clf_svc_gs.cv_results_['std_test_score']\n",
        "for mean, std, params in zip(means, stds, clf_svc_gs.cv_results_['params']):\n",
        "    print(\"%0.3f (+/-%0.03f) for %r\"\n",
        "          % (mean, std * 2, params))\n",
        "print(\"\\nDetailed classification report:\\n\")\n",
        "print(\"The model is trained on the full development set.\")\n",
        "print(\"The scores are computed on the full evaluation set.\\n\")\n",
        "y_true, y_pred = y_test, clf_svc_gs.predict(X_test)\n",
        "print(classification_report(y_true, y_pred))"
      ],
      "execution_count": 23,
      "outputs": [
        {
          "output_type": "stream",
          "name": "stdout",
          "text": [
            "Best parameters set found on development set:\n",
            "\n",
            "{'C': 1, 'kernel': 'linear'} \n",
            "\n",
            "Grid scores on development set:\n",
            "\n",
            "0.951 (+/-0.000) for {'C': 1, 'kernel': 'linear'}\n",
            "0.951 (+/-0.000) for {'C': 10, 'kernel': 'linear'}\n",
            "0.951 (+/-0.000) for {'C': 100, 'kernel': 'linear'}\n",
            "0.951 (+/-0.000) for {'C': 1, 'gamma': 0.001, 'kernel': 'rbf'}\n",
            "0.951 (+/-0.000) for {'C': 1, 'gamma': 0.0001, 'kernel': 'rbf'}\n",
            "0.951 (+/-0.000) for {'C': 10, 'gamma': 0.001, 'kernel': 'rbf'}\n",
            "0.951 (+/-0.000) for {'C': 10, 'gamma': 0.0001, 'kernel': 'rbf'}\n",
            "0.950 (+/-0.002) for {'C': 100, 'gamma': 0.001, 'kernel': 'rbf'}\n",
            "0.951 (+/-0.000) for {'C': 100, 'gamma': 0.0001, 'kernel': 'rbf'}\n",
            "0.933 (+/-0.003) for {'C': 1000, 'gamma': 0.001, 'kernel': 'rbf'}\n",
            "0.951 (+/-0.000) for {'C': 1000, 'gamma': 0.0001, 'kernel': 'rbf'}\n",
            "\n",
            "Detailed classification report:\n",
            "\n",
            "The model is trained on the full development set.\n",
            "The scores are computed on the full evaluation set.\n",
            "\n",
            "              precision    recall  f1-score   support\n",
            "\n",
            "           0       0.95      1.00      0.97      1457\n",
            "           1       0.00      0.00      0.00        75\n",
            "\n",
            "    accuracy                           0.95      1532\n",
            "   macro avg       0.48      0.50      0.49      1532\n",
            "weighted avg       0.90      0.95      0.93      1532\n",
            "\n",
            "CPU times: user 5min 21s, sys: 201 ms, total: 5min 21s\n",
            "Wall time: 5min 20s\n"
          ]
        }
      ]
    },
    {
      "cell_type": "markdown",
      "metadata": {
        "id": "xqJ_sX3ZoidR"
      },
      "source": [
        "After checking a few variations of hyperparameters changing using grid search - it seems that all parameters gives the same results.\n",
        "\n",
        "---"
      ]
    },
    {
      "cell_type": "markdown",
      "metadata": {
        "id": "LQZLnq-U4cUN"
      },
      "source": [
        "### Scaling using StandartScaler and using svc"
      ]
    },
    {
      "cell_type": "code",
      "metadata": {
        "id": "gDaabHL24bnr"
      },
      "source": [
        "# Scaling using Standard Scaler\n",
        "df = data.copy(deep=True)\n",
        "df = df.reset_index()\n",
        "df.drop(columns='index')\n",
        "df2 = df[['avg_glucose_level','bmi','age']]\n",
        "\n",
        "std=StandardScaler()\n",
        "scaled_col = std.fit_transform(df2)\n",
        "scaled_col = pd.DataFrame(scaled_col,columns=['avg_glucose_level','bmi','age'])\n",
        "scaled_col.isna().sum()\n",
        "\n",
        "df=df.drop(columns=['avg_glucose_level','bmi','age'],axis=1)\n",
        "df=df.merge(scaled_col, left_index=True, right_index=True, how = \"left\")"
      ],
      "execution_count": 27,
      "outputs": []
    },
    {
      "cell_type": "code",
      "metadata": {
        "id": "Pu8z2zCa4kJ2"
      },
      "source": [
        "# labale & feature seperation\n",
        "X2 = df.drop(columns='stroke')        # \n",
        "y2= df['stroke']\n",
        "\n",
        "#split train Test\n",
        "trainSize = 0.75\n",
        "randState = 990\n",
        "X2_train, X2_test, y2_train, y2_test = train_test_split(X2, y2, train_size = trainSize, random_state = randState, stratify=df.stroke)\n"
      ],
      "execution_count": 42,
      "outputs": []
    },
    {
      "cell_type": "code",
      "metadata": {
        "colab": {
          "base_uri": "https://localhost:8080/"
        },
        "id": "dBm_iROO4yhz",
        "outputId": "33eb5b64-6065-40b0-9374-97be90fe5142"
      },
      "source": [
        "# Defining the SVC classifier:\n",
        "clf_scaled_svc = SVC(random_state=0)\n",
        "clf_scaled_svc.fit(X2_train, y2_train)\n",
        "\n",
        "#Score  \n",
        "scaled_svc_score = clf_scaled_svc.score(X2_train, y2_train)\n",
        "scaled_svc_test = clf_scaled_svc.score(X2_test, y2_test)\n",
        "\n",
        "#testing model  \n",
        "y2_pred = clf_scaled_svc.predict(X2_test)\n",
        "\n",
        "#evaluation\n",
        "scaled_svc_cm = confusion_matrix(y2_test,y2_pred)\n",
        "print('Training Score',scaled_svc_score)\n",
        "print('Testing Score \\n',scaled_svc_test)\n",
        "print(scaled_svc_cm)\n",
        "print(classification_report(y2_test, y2_pred))"
      ],
      "execution_count": 43,
      "outputs": [
        {
          "output_type": "stream",
          "name": "stdout",
          "text": [
            "Training Score 0.9986938349007315\n",
            "Testing Score \n",
            " 1.0\n",
            "[[1214    0]\n",
            " [   0   62]]\n",
            "              precision    recall  f1-score   support\n",
            "\n",
            "           0       1.00      1.00      1.00      1214\n",
            "           1       1.00      1.00      1.00        62\n",
            "\n",
            "    accuracy                           1.00      1276\n",
            "   macro avg       1.00      1.00      1.00      1276\n",
            "weighted avg       1.00      1.00      1.00      1276\n",
            "\n"
          ]
        }
      ]
    },
    {
      "cell_type": "code",
      "metadata": {
        "colab": {
          "base_uri": "https://localhost:8080/"
        },
        "id": "lRYtFChK9O6V",
        "outputId": "8c6f02e7-cb3f-4af5-b959-4ff48df20c20"
      },
      "source": [
        "# validating using Cross validation\n",
        "k=7\n",
        "custom_iter = StratifiedShuffleSplit(n_splits=k, train_size=0.75, test_size=0.25)\n",
        "scores = cross_val_score(clf_scaled_svc, X2_train, y2_train, cv=custom_iter)\n",
        "\n",
        "print(\"Scores : \" + (k * \"{:.3f} \").format(*scores))"
      ],
      "execution_count": 34,
      "outputs": [
        {
          "output_type": "stream",
          "name": "stdout",
          "text": [
            "Scores : 0.998 0.999 0.999 0.999 1.000 1.000 0.999 \n"
          ]
        }
      ]
    },
    {
      "cell_type": "markdown",
      "metadata": {
        "id": "Kf5xt8gA70qU"
      },
      "source": [
        "much better score was achived after scaling"
      ]
    },
    {
      "cell_type": "markdown",
      "metadata": {
        "id": "L_LUNW3ZAeXg"
      },
      "source": [
        "##Random Forest"
      ]
    },
    {
      "cell_type": "code",
      "metadata": {
        "colab": {
          "base_uri": "https://localhost:8080/",
          "height": 1000
        },
        "id": "PYEi_Q-NOjnJ",
        "outputId": "dbf2c478-8e6d-42a9-aef1-2885bb94148d"
      },
      "source": [
        "\n",
        "# RandomForest \n",
        "\n",
        "#Fitting RandomForest Model\n",
        "classifier = RandomForestClassifier(criterion= 'gini', n_estimators= 100, random_state= 0)\n",
        "classifier.fit(X_train_res, y_train_res)\n",
        "y_pred = classifier.predict(X_test)\n",
        "y_prob = classifier.predict_proba(X_test)[:,1]\n",
        "cm = confusion_matrix(y_test, y_pred)\n",
        "\n",
        "print(classification_report(y_test, y_pred))\n",
        "print(f'ROC AUC score: {roc_auc_score(y_test, y_prob)}')\n",
        "print('Accuracy Score: ',accuracy_score(y_test, y_pred))\n",
        "\n",
        "# Visualizing Confusion Matrix\n",
        "plt.figure(figsize = (8, 5))\n",
        "sns.heatmap(cm, cmap = 'Blues', annot = True, fmt = 'd', linewidths = 5, cbar = False, annot_kws = {'fontsize': 15}, \n",
        "            yticklabels = ['No stroke', 'Stroke'], xticklabels = ['Predicted no stroke', 'Predicted stroke'])\n",
        "plt.yticks(rotation = 0)\n",
        "plt.show()\n",
        "\n",
        "# Roc AUC Curve\n",
        "false_positive_rate, true_positive_rate, thresholds = roc_curve(y_test, y_prob)\n",
        "roc_auc = auc(false_positive_rate, true_positive_rate)\n",
        "\n",
        "sns.set_theme(style = 'white')\n",
        "plt.figure(figsize = (8, 8))\n",
        "plt.plot(false_positive_rate,true_positive_rate, color = '#b01717', label = 'AUC = %0.3f' % roc_auc)\n",
        "plt.legend(loc = 'lower right')\n",
        "plt.plot([0, 1], [0, 1], linestyle = '--', color = '#174ab0')\n",
        "plt.axis('tight')\n",
        "plt.ylabel('True Positive Rate')\n",
        "plt.xlabel('False Positive Rate')\n",
        "plt.legend()\n",
        "plt.show()"
      ],
      "execution_count": null,
      "outputs": [
        {
          "output_type": "stream",
          "name": "stdout",
          "text": [
            "              precision    recall  f1-score   support\n",
            "\n",
            "           0       0.95      0.96      0.96      1457\n",
            "           1       0.12      0.12      0.12        75\n",
            "\n",
            "    accuracy                           0.91      1532\n",
            "   macro avg       0.54      0.54      0.54      1532\n",
            "weighted avg       0.91      0.91      0.91      1532\n",
            "\n",
            "ROC AUC score: 0.7985175017158546\n",
            "Accuracy Score:  0.914490861618799\n"
          ]
        },
        {
          "output_type": "display_data",
          "data": {
            "image/png": "[encoded data removed]",
            "text/plain": [
              "<Figure size 576x360 with 1 Axes>"
            ]
          },
          "metadata": {}
        },
        {
          "output_type": "display_data",
          "data": {
            "image/png": "[encoded data removed]",
            "text/plain": [
              "<Figure size 576x576 with 1 Axes>"
            ]
          },
          "metadata": {}
        }
      ]
    },
    {
      "cell_type": "markdown",
      "metadata": {
        "id": "WyE1dqLqFy-x"
      },
      "source": [
        "#Summery\n",
        "Present summary of results. Declare whether you failed or succeeded to reach the objective.\n",
        "Make some remarks about what it will take to move the project into production. Address things like the scalability of the model, how would you handle new data, etc...\n",
        "Provide some recommendations for future work (Extensions).\n"
      ]
    },
    {
      "cell_type": "markdown",
      "metadata": {
        "id": "jCVMDQt-O0xU"
      },
      "source": [
        "#presentation.\n",
        " The presentation should be short and focused.\n",
        "Slide 01 - Project name & authors.\n",
        "Slide 02 - Present the problem and objective with target score.\n",
        "Slide 03 - Present data (With a link to source).\n",
        "Slide 04 - Present the Pre Processing process.\n",
        "Slide 05 - Present the feature engineering process.\n",
        "Slide 06 - Present the data for the predictor on its final state.\n",
        "Slide 07 - Present methods used as predictors.\n",
        "Slide 08 - Present main results and comparison of methods.\n",
        "Slide 09 - Present important “Trick” or contribution to results.\n",
        "Slide 10 - Present the summary and if the objective was achieved.\n"
      ]
    },
    {
      "cell_type": "markdown",
      "metadata": {
        "id": "9b8EINoBX2SK"
      },
      "source": [
        "# this is a test"
      ]
    },
    {
      "cell_type": "code",
      "metadata": {
        "id": "75Dm-88dcxUI",
        "colab": {
          "base_uri": "https://localhost:8080/"
        },
        "outputId": "0419a399-d26d-4e71-eb6b-5308ee42b65d"
      },
      "source": [
        "! pwd"
      ],
      "execution_count": null,
      "outputs": [
        {
          "output_type": "stream",
          "name": "stdout",
          "text": [
            "/content\n"
          ]
        }
      ]
    },
    {
      "cell_type": "code",
      "metadata": {
        "id": "_cZatvmecyBk"
      },
      "source": [
        ""
      ],
      "execution_count": null,
      "outputs": []
    }
  ]
}